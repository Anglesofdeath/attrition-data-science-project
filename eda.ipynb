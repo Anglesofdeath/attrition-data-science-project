{
 "cells": [
  {
   "cell_type": "code",
   "execution_count": 1156,
   "metadata": {},
   "outputs": [],
   "source": [
    "import sqlite3\n",
    "import pandas as pd\n",
    "import numpy as np\n",
    "from datetime import date\n",
    "import matplotlib.pyplot as plt\n",
    "import seaborn as sns\n",
    "from scipy import stats\n",
    "from math import isnan"
   ]
  },
  {
   "cell_type": "code",
   "execution_count": 1157,
   "metadata": {},
   "outputs": [
    {
     "data": {
      "text/html": [
       "<div>\n",
       "<style scoped>\n",
       "    .dataframe tbody tr th:only-of-type {\n",
       "        vertical-align: middle;\n",
       "    }\n",
       "\n",
       "    .dataframe tbody tr th {\n",
       "        vertical-align: top;\n",
       "    }\n",
       "\n",
       "    .dataframe thead th {\n",
       "        text-align: right;\n",
       "    }\n",
       "</style>\n",
       "<table border=\"1\" class=\"dataframe\">\n",
       "  <thead>\n",
       "    <tr style=\"text-align: right;\">\n",
       "      <th></th>\n",
       "      <th>Member Unique ID</th>\n",
       "      <th>Attrition</th>\n",
       "      <th>Age</th>\n",
       "      <th>Gender</th>\n",
       "      <th>Monthly Income</th>\n",
       "      <th>Travel Time</th>\n",
       "      <th>Qualification</th>\n",
       "      <th>Work Domain</th>\n",
       "      <th>Usage Rate</th>\n",
       "      <th>Branch</th>\n",
       "      <th>Membership</th>\n",
       "      <th>Months</th>\n",
       "      <th>Birth Year</th>\n",
       "      <th>Usage Time</th>\n",
       "    </tr>\n",
       "  </thead>\n",
       "  <tbody>\n",
       "    <tr>\n",
       "      <th>0</th>\n",
       "      <td>1d172e75-2c13-4b73-a1da-18d442a10bf7</td>\n",
       "      <td>1</td>\n",
       "      <td>41</td>\n",
       "      <td>Female</td>\n",
       "      <td>5993</td>\n",
       "      <td>0.2 hours</td>\n",
       "      <td>Diploma</td>\n",
       "      <td>Engineering</td>\n",
       "      <td>2</td>\n",
       "      <td>Changi</td>\n",
       "      <td>Gold</td>\n",
       "      <td>7</td>\n",
       "      <td>1981</td>\n",
       "      <td>7</td>\n",
       "    </tr>\n",
       "    <tr>\n",
       "      <th>1</th>\n",
       "      <td>6dee0995-9ff1-44a6-b3f1-fc5f7270c8ab</td>\n",
       "      <td>0</td>\n",
       "      <td>49</td>\n",
       "      <td>Male</td>\n",
       "      <td>5130</td>\n",
       "      <td>0.7 hours</td>\n",
       "      <td>Diploma</td>\n",
       "      <td>Engineering</td>\n",
       "      <td>3</td>\n",
       "      <td>Thomson</td>\n",
       "      <td>Normal</td>\n",
       "      <td>11</td>\n",
       "      <td>1973</td>\n",
       "      <td>2</td>\n",
       "    </tr>\n",
       "    <tr>\n",
       "      <th>2</th>\n",
       "      <td>c9fff882-42e7-4e12-88ab-74aba95113dc</td>\n",
       "      <td>1</td>\n",
       "      <td>37</td>\n",
       "      <td>Male</td>\n",
       "      <td>2090</td>\n",
       "      <td>20.0 mins</td>\n",
       "      <td>Diploma</td>\n",
       "      <td>Medical</td>\n",
       "      <td>4</td>\n",
       "      <td>Thomson</td>\n",
       "      <td>Normal</td>\n",
       "      <td>1</td>\n",
       "      <td>1985</td>\n",
       "      <td>2</td>\n",
       "    </tr>\n",
       "    <tr>\n",
       "      <th>3</th>\n",
       "      <td>1521db93-82d8-46a8-9718-6acde2a7c001</td>\n",
       "      <td>0</td>\n",
       "      <td>33</td>\n",
       "      <td>Female</td>\n",
       "      <td>2909</td>\n",
       "      <td>20.0 mins</td>\n",
       "      <td>Master</td>\n",
       "      <td>Engineering</td>\n",
       "      <td>4</td>\n",
       "      <td>Thomson</td>\n",
       "      <td>Normal</td>\n",
       "      <td>9</td>\n",
       "      <td>1989</td>\n",
       "      <td>0</td>\n",
       "    </tr>\n",
       "    <tr>\n",
       "      <th>4</th>\n",
       "      <td>e8a69be8-c96a-4f37-b14c-b3c75aa32db3</td>\n",
       "      <td>0</td>\n",
       "      <td>27</td>\n",
       "      <td>Male</td>\n",
       "      <td>3468</td>\n",
       "      <td>0.3 hours</td>\n",
       "      <td>Diploma</td>\n",
       "      <td>Information Technology</td>\n",
       "      <td>1</td>\n",
       "      <td>Thomson</td>\n",
       "      <td>Normal</td>\n",
       "      <td>3</td>\n",
       "      <td>1995</td>\n",
       "      <td>15</td>\n",
       "    </tr>\n",
       "    <tr>\n",
       "      <th>...</th>\n",
       "      <td>...</td>\n",
       "      <td>...</td>\n",
       "      <td>...</td>\n",
       "      <td>...</td>\n",
       "      <td>...</td>\n",
       "      <td>...</td>\n",
       "      <td>...</td>\n",
       "      <td>...</td>\n",
       "      <td>...</td>\n",
       "      <td>...</td>\n",
       "      <td>...</td>\n",
       "      <td>...</td>\n",
       "      <td>...</td>\n",
       "      <td>...</td>\n",
       "    </tr>\n",
       "    <tr>\n",
       "      <th>2465</th>\n",
       "      <td>853c0e3d-102d-4f0a-8eaf-77ab3ee6eb9e</td>\n",
       "      <td>0</td>\n",
       "      <td>55</td>\n",
       "      <td>Male</td>\n",
       "      <td>7168</td>\n",
       "      <td>0.4 hours</td>\n",
       "      <td>Master</td>\n",
       "      <td>Medical</td>\n",
       "      <td>3</td>\n",
       "      <td>Changi</td>\n",
       "      <td>Bronze</td>\n",
       "      <td>10</td>\n",
       "      <td>-1</td>\n",
       "      <td>5</td>\n",
       "    </tr>\n",
       "    <tr>\n",
       "      <th>2466</th>\n",
       "      <td>ffaa8f3e-845c-4609-86ba-c64162fd08be</td>\n",
       "      <td>1</td>\n",
       "      <td>28</td>\n",
       "      <td>Male</td>\n",
       "      <td>9138</td>\n",
       "      <td>53.61316468923773 mins</td>\n",
       "      <td>Diploma</td>\n",
       "      <td>Engineering</td>\n",
       "      <td>3</td>\n",
       "      <td>Changi</td>\n",
       "      <td>Normal</td>\n",
       "      <td>11</td>\n",
       "      <td>1994</td>\n",
       "      <td>3</td>\n",
       "    </tr>\n",
       "    <tr>\n",
       "      <th>2467</th>\n",
       "      <td>df9097af-60f5-4654-b479-75ce35ef2c9b</td>\n",
       "      <td>0</td>\n",
       "      <td>55</td>\n",
       "      <td>Male</td>\n",
       "      <td>11845</td>\n",
       "      <td>0.5 hours</td>\n",
       "      <td>Master</td>\n",
       "      <td>Engineering</td>\n",
       "      <td>3</td>\n",
       "      <td>Thomson</td>\n",
       "      <td>Normal</td>\n",
       "      <td>4</td>\n",
       "      <td>1967</td>\n",
       "      <td>5</td>\n",
       "    </tr>\n",
       "    <tr>\n",
       "      <th>2468</th>\n",
       "      <td>5675bfe3-c90a-47bb-b6c2-5d6e2005ef54</td>\n",
       "      <td>0</td>\n",
       "      <td>42</td>\n",
       "      <td>Female</td>\n",
       "      <td>12579</td>\n",
       "      <td>31.884495613579915 mins</td>\n",
       "      <td>Bachelor</td>\n",
       "      <td>Business</td>\n",
       "      <td>1</td>\n",
       "      <td>Changi</td>\n",
       "      <td>Silver</td>\n",
       "      <td>5</td>\n",
       "      <td>1980</td>\n",
       "      <td>2</td>\n",
       "    </tr>\n",
       "    <tr>\n",
       "      <th>2469</th>\n",
       "      <td>2a7a16fb-d1dd-46d9-a3ad-4f5f7c3c0d3c</td>\n",
       "      <td>1</td>\n",
       "      <td>-1</td>\n",
       "      <td>Female</td>\n",
       "      <td>3938</td>\n",
       "      <td>21.88522209192417 mins</td>\n",
       "      <td>Bachelor</td>\n",
       "      <td>Science</td>\n",
       "      <td>3</td>\n",
       "      <td>Kranji</td>\n",
       "      <td>Silver</td>\n",
       "      <td>33</td>\n",
       "      <td>1986</td>\n",
       "      <td>3</td>\n",
       "    </tr>\n",
       "  </tbody>\n",
       "</table>\n",
       "<p>2470 rows × 14 columns</p>\n",
       "</div>"
      ],
      "text/plain": [
       "                          Member Unique ID  Attrition  Age  Gender  \\\n",
       "0     1d172e75-2c13-4b73-a1da-18d442a10bf7          1   41  Female   \n",
       "1     6dee0995-9ff1-44a6-b3f1-fc5f7270c8ab          0   49    Male   \n",
       "2     c9fff882-42e7-4e12-88ab-74aba95113dc          1   37    Male   \n",
       "3     1521db93-82d8-46a8-9718-6acde2a7c001          0   33  Female   \n",
       "4     e8a69be8-c96a-4f37-b14c-b3c75aa32db3          0   27    Male   \n",
       "...                                    ...        ...  ...     ...   \n",
       "2465  853c0e3d-102d-4f0a-8eaf-77ab3ee6eb9e          0   55    Male   \n",
       "2466  ffaa8f3e-845c-4609-86ba-c64162fd08be          1   28    Male   \n",
       "2467  df9097af-60f5-4654-b479-75ce35ef2c9b          0   55    Male   \n",
       "2468  5675bfe3-c90a-47bb-b6c2-5d6e2005ef54          0   42  Female   \n",
       "2469  2a7a16fb-d1dd-46d9-a3ad-4f5f7c3c0d3c          1   -1  Female   \n",
       "\n",
       "      Monthly Income              Travel Time Qualification  \\\n",
       "0               5993                0.2 hours       Diploma   \n",
       "1               5130                0.7 hours       Diploma   \n",
       "2               2090                20.0 mins       Diploma   \n",
       "3               2909                20.0 mins        Master   \n",
       "4               3468                0.3 hours       Diploma   \n",
       "...              ...                      ...           ...   \n",
       "2465            7168                0.4 hours        Master   \n",
       "2466            9138   53.61316468923773 mins       Diploma   \n",
       "2467           11845                0.5 hours        Master   \n",
       "2468           12579  31.884495613579915 mins      Bachelor   \n",
       "2469            3938   21.88522209192417 mins      Bachelor   \n",
       "\n",
       "                 Work Domain  Usage Rate   Branch Membership  Months  \\\n",
       "0                Engineering           2   Changi       Gold       7   \n",
       "1                Engineering           3  Thomson     Normal      11   \n",
       "2                    Medical           4  Thomson     Normal       1   \n",
       "3                Engineering           4  Thomson     Normal       9   \n",
       "4     Information Technology           1  Thomson     Normal       3   \n",
       "...                      ...         ...      ...        ...     ...   \n",
       "2465                 Medical           3   Changi     Bronze      10   \n",
       "2466             Engineering           3   Changi     Normal      11   \n",
       "2467             Engineering           3  Thomson     Normal       4   \n",
       "2468                Business           1   Changi     Silver       5   \n",
       "2469                 Science           3   Kranji     Silver      33   \n",
       "\n",
       "      Birth Year  Usage Time  \n",
       "0           1981           7  \n",
       "1           1973           2  \n",
       "2           1985           2  \n",
       "3           1989           0  \n",
       "4           1995          15  \n",
       "...          ...         ...  \n",
       "2465          -1           5  \n",
       "2466        1994           3  \n",
       "2467        1967           5  \n",
       "2468        1980           2  \n",
       "2469        1986           3  \n",
       "\n",
       "[2470 rows x 14 columns]"
      ]
     },
     "execution_count": 1157,
     "metadata": {},
     "output_type": "execute_result"
    }
   ],
   "source": [
    "conn = sqlite3.connect('data/attrition.db')\n",
    "df = pd.read_sql_query('SELECT * FROM attrition', conn)\n",
    "df"
   ]
  },
  {
   "cell_type": "markdown",
   "metadata": {},
   "source": [
    "Lets start by getting the shape of our dataset so we know what we are working with. "
   ]
  },
  {
   "cell_type": "code",
   "execution_count": 1158,
   "metadata": {},
   "outputs": [
    {
     "data": {
      "text/plain": [
       "(2470, 14)"
      ]
     },
     "execution_count": 1158,
     "metadata": {},
     "output_type": "execute_result"
    }
   ],
   "source": [
    "df.shape"
   ]
  },
  {
   "cell_type": "markdown",
   "metadata": {},
   "source": [
    "We have 2470 datapoints and 14 columns. But one of the columns is what are are trying to predict (Attrition) so we have 13 features to analyse. Lets start by checking if there are any null values. "
   ]
  },
  {
   "cell_type": "code",
   "execution_count": 1159,
   "metadata": {},
   "outputs": [
    {
     "data": {
      "text/plain": [
       "Member Unique ID    0\n",
       "Attrition           0\n",
       "Age                 0\n",
       "Gender              0\n",
       "Monthly Income      0\n",
       "Travel Time         0\n",
       "Qualification       0\n",
       "Work Domain         0\n",
       "Usage Rate          0\n",
       "Branch              0\n",
       "Membership          0\n",
       "Months              0\n",
       "Birth Year          0\n",
       "Usage Time          0\n",
       "dtype: int64"
      ]
     },
     "execution_count": 1159,
     "metadata": {},
     "output_type": "execute_result"
    }
   ],
   "source": [
    "df.isna().sum()"
   ]
  },
  {
   "cell_type": "markdown",
   "metadata": {},
   "source": [
    "There seems to be no missing datapoints which is great! Now lets take a look at each individual column and check that there are no incorrect entries or values that do not make sense. We will start by just getting a quick overview of the numerical data"
   ]
  },
  {
   "cell_type": "code",
   "execution_count": 1160,
   "metadata": {},
   "outputs": [
    {
     "data": {
      "text/html": [
       "<div>\n",
       "<style scoped>\n",
       "    .dataframe tbody tr th:only-of-type {\n",
       "        vertical-align: middle;\n",
       "    }\n",
       "\n",
       "    .dataframe tbody tr th {\n",
       "        vertical-align: top;\n",
       "    }\n",
       "\n",
       "    .dataframe thead th {\n",
       "        text-align: right;\n",
       "    }\n",
       "</style>\n",
       "<table border=\"1\" class=\"dataframe\">\n",
       "  <thead>\n",
       "    <tr style=\"text-align: right;\">\n",
       "      <th></th>\n",
       "      <th>Attrition</th>\n",
       "      <th>Age</th>\n",
       "      <th>Monthly Income</th>\n",
       "      <th>Usage Rate</th>\n",
       "      <th>Months</th>\n",
       "      <th>Birth Year</th>\n",
       "      <th>Usage Time</th>\n",
       "    </tr>\n",
       "  </thead>\n",
       "  <tbody>\n",
       "    <tr>\n",
       "      <th>count</th>\n",
       "      <td>2470.000000</td>\n",
       "      <td>2470.000000</td>\n",
       "      <td>2470.000000</td>\n",
       "      <td>2470.000000</td>\n",
       "      <td>2470.000000</td>\n",
       "      <td>2470.000000</td>\n",
       "      <td>2470.000000</td>\n",
       "    </tr>\n",
       "    <tr>\n",
       "      <th>mean</th>\n",
       "      <td>0.169636</td>\n",
       "      <td>35.970850</td>\n",
       "      <td>5143.199595</td>\n",
       "      <td>2.780972</td>\n",
       "      <td>10.634413</td>\n",
       "      <td>1734.040486</td>\n",
       "      <td>4.846964</td>\n",
       "    </tr>\n",
       "    <tr>\n",
       "      <th>std</th>\n",
       "      <td>0.375388</td>\n",
       "      <td>16.757217</td>\n",
       "      <td>6542.273046</td>\n",
       "      <td>1.033757</td>\n",
       "      <td>9.225734</td>\n",
       "      <td>655.077597</td>\n",
       "      <td>3.925911</td>\n",
       "    </tr>\n",
       "    <tr>\n",
       "      <th>min</th>\n",
       "      <td>0.000000</td>\n",
       "      <td>-1.000000</td>\n",
       "      <td>-24620.000000</td>\n",
       "      <td>1.000000</td>\n",
       "      <td>0.000000</td>\n",
       "      <td>-1.000000</td>\n",
       "      <td>0.000000</td>\n",
       "    </tr>\n",
       "    <tr>\n",
       "      <th>25%</th>\n",
       "      <td>0.000000</td>\n",
       "      <td>29.000000</td>\n",
       "      <td>2610.000000</td>\n",
       "      <td>2.000000</td>\n",
       "      <td>5.000000</td>\n",
       "      <td>1969.000000</td>\n",
       "      <td>2.000000</td>\n",
       "    </tr>\n",
       "    <tr>\n",
       "      <th>50%</th>\n",
       "      <td>0.000000</td>\n",
       "      <td>38.000000</td>\n",
       "      <td>4785.000000</td>\n",
       "      <td>3.000000</td>\n",
       "      <td>8.000000</td>\n",
       "      <td>1980.000000</td>\n",
       "      <td>4.000000</td>\n",
       "    </tr>\n",
       "    <tr>\n",
       "      <th>75%</th>\n",
       "      <td>0.000000</td>\n",
       "      <td>48.000000</td>\n",
       "      <td>7981.750000</td>\n",
       "      <td>4.000000</td>\n",
       "      <td>13.000000</td>\n",
       "      <td>1988.000000</td>\n",
       "      <td>6.000000</td>\n",
       "    </tr>\n",
       "    <tr>\n",
       "      <th>max</th>\n",
       "      <td>1.000000</td>\n",
       "      <td>69.000000</td>\n",
       "      <td>25326.000000</td>\n",
       "      <td>4.000000</td>\n",
       "      <td>57.000000</td>\n",
       "      <td>2004.000000</td>\n",
       "      <td>20.000000</td>\n",
       "    </tr>\n",
       "  </tbody>\n",
       "</table>\n",
       "</div>"
      ],
      "text/plain": [
       "         Attrition          Age  Monthly Income   Usage Rate       Months  \\\n",
       "count  2470.000000  2470.000000     2470.000000  2470.000000  2470.000000   \n",
       "mean      0.169636    35.970850     5143.199595     2.780972    10.634413   \n",
       "std       0.375388    16.757217     6542.273046     1.033757     9.225734   \n",
       "min       0.000000    -1.000000   -24620.000000     1.000000     0.000000   \n",
       "25%       0.000000    29.000000     2610.000000     2.000000     5.000000   \n",
       "50%       0.000000    38.000000     4785.000000     3.000000     8.000000   \n",
       "75%       0.000000    48.000000     7981.750000     4.000000    13.000000   \n",
       "max       1.000000    69.000000    25326.000000     4.000000    57.000000   \n",
       "\n",
       "        Birth Year   Usage Time  \n",
       "count  2470.000000  2470.000000  \n",
       "mean   1734.040486     4.846964  \n",
       "std     655.077597     3.925911  \n",
       "min      -1.000000     0.000000  \n",
       "25%    1969.000000     2.000000  \n",
       "50%    1980.000000     4.000000  \n",
       "75%    1988.000000     6.000000  \n",
       "max    2004.000000    20.000000  "
      ]
     },
     "execution_count": 1160,
     "metadata": {},
     "output_type": "execute_result"
    }
   ],
   "source": [
    "df.describe()"
   ]
  },
  {
   "cell_type": "markdown",
   "metadata": {},
   "source": [
    "There do seem to be a few issues that I can see just from this table. \n",
    "    1. There is a negative age. \n",
    "    2. There is a negative monthly income\n",
    "    3. There is a negative birth year\n",
    "Now lets take a look at each column individually"
   ]
  },
  {
   "cell_type": "markdown",
   "metadata": {},
   "source": [
    "## Data Cleaning"
   ]
  },
  {
   "cell_type": "markdown",
   "metadata": {},
   "source": [
    "We will ignore Member Unique ID as I do not think that a unique ID would in any way be useful to helping to predict attrition. "
   ]
  },
  {
   "cell_type": "markdown",
   "metadata": {},
   "source": [
    "#### Attrition"
   ]
  },
  {
   "cell_type": "code",
   "execution_count": 1161,
   "metadata": {},
   "outputs": [
    {
     "data": {
      "text/plain": [
       "array([1, 0])"
      ]
     },
     "execution_count": 1161,
     "metadata": {},
     "output_type": "execute_result"
    }
   ],
   "source": [
    "df['Attrition'].unique()"
   ]
  },
  {
   "cell_type": "markdown",
   "metadata": {},
   "source": [
    "Thankfully there are no issues with Attrition. If there were, that would be a major issue as this is the value we are predicting. "
   ]
  },
  {
   "cell_type": "markdown",
   "metadata": {},
   "source": [
    "#### Age"
   ]
  },
  {
   "cell_type": "markdown",
   "metadata": {},
   "source": [
    "We know from earlier, that there are some negative values within this column. Lets take a closer look"
   ]
  },
  {
   "cell_type": "code",
   "execution_count": 1162,
   "metadata": {},
   "outputs": [
    {
     "data": {
      "text/plain": [
       "291"
      ]
     },
     "execution_count": 1162,
     "metadata": {},
     "output_type": "execute_result"
    }
   ],
   "source": [
    "df['Age'][df['Age']<=0].count()"
   ]
  },
  {
   "cell_type": "markdown",
   "metadata": {},
   "source": [
    "This seems to be a big issue. There are 291 data points with negative ages. This is more than 10% of our dataset. We cannot just delete 10% of our dataset. So we will have to consider either fixing these incorrect points or deleting the column all together. Lets take a closer look at what negative values there are for age. "
   ]
  },
  {
   "cell_type": "code",
   "execution_count": 1163,
   "metadata": {},
   "outputs": [
    {
     "data": {
      "text/plain": [
       "array([-1])"
      ]
     },
     "execution_count": 1163,
     "metadata": {},
     "output_type": "execute_result"
    }
   ],
   "source": [
    "df['Age'].loc[df['Age'] <= 0].unique()"
   ]
  },
  {
   "cell_type": "markdown",
   "metadata": {},
   "source": [
    "So all the negative values are -1. We have incorrectly labelled datapoints. Lets take a look at the spread of the rest of the datapoints. We will take a look at a boxplot and a distribution plot."
   ]
  },
  {
   "cell_type": "code",
   "execution_count": 1164,
   "metadata": {},
   "outputs": [
    {
     "data": {
      "text/plain": [
       "<AxesSubplot: >"
      ]
     },
     "execution_count": 1164,
     "metadata": {},
     "output_type": "execute_result"
    },
    {
     "data": {
      "image/png": "[encoded data removed]",
      "text/plain": [
       "<Figure size 640x480 with 1 Axes>"
      ]
     },
     "metadata": {},
     "output_type": "display_data"
    }
   ],
   "source": [
    "sns.boxplot(df['Age'][df['Age']>=21])"
   ]
  },
  {
   "cell_type": "code",
   "execution_count": 1165,
   "metadata": {},
   "outputs": [
    {
     "data": {
      "text/plain": [
       "<seaborn.axisgrid.FacetGrid at 0x13d4084f0>"
      ]
     },
     "execution_count": 1165,
     "metadata": {},
     "output_type": "execute_result"
    },
    {
     "data": {
      "image/png": "[encoded data removed]",
      "text/plain": [
       "<Figure size 500x500 with 1 Axes>"
      ]
     },
     "metadata": {},
     "output_type": "display_data"
    }
   ],
   "source": [
    "sns.displot(df['Age'][df['Age']>0], kde = True)"
   ]
  },
  {
   "cell_type": "markdown",
   "metadata": {},
   "source": [
    "The rest of the data (Age >=21) seems to be relatively non-skewed. Almost looks normally distributed. I think based on these plots, using the mean of the non-negative datapoints (rounded to the nearest whole number) would be an appropriate way to fill in the negative values. However, I have decided to go a different route which will be explained at a later section. "
   ]
  },
  {
   "cell_type": "markdown",
   "metadata": {},
   "source": [
    "#### Gender"
   ]
  },
  {
   "cell_type": "markdown",
   "metadata": {},
   "source": [
    "Lets start by taking a look at the unique values within this feature"
   ]
  },
  {
   "cell_type": "code",
   "execution_count": 1166,
   "metadata": {},
   "outputs": [
    {
     "data": {
      "text/plain": [
       "array(['Female', 'Male'], dtype=object)"
      ]
     },
     "execution_count": 1166,
     "metadata": {},
     "output_type": "execute_result"
    }
   ],
   "source": [
    "df['Gender'].unique()"
   ]
  },
  {
   "cell_type": "markdown",
   "metadata": {},
   "source": [
    "We note that before we run any models using this feature, we will need to convert it. However, for the purposes of this eda, we will leave it as male/female. If we choose to use this feature, we will convert it using one-hot encoding. "
   ]
  },
  {
   "cell_type": "markdown",
   "metadata": {},
   "source": [
    "#### Monthly Income"
   ]
  },
  {
   "cell_type": "markdown",
   "metadata": {},
   "source": [
    "Lets take a look at the monthly income feature. We know from above that there is at least one negative value within the feauture. "
   ]
  },
  {
   "cell_type": "code",
   "execution_count": 1167,
   "metadata": {},
   "outputs": [
    {
     "data": {
      "text/plain": [
       "299"
      ]
     },
     "execution_count": 1167,
     "metadata": {},
     "output_type": "execute_result"
    }
   ],
   "source": [
    "df['Monthly Income'][df['Monthly Income']< 0].count()"
   ]
  },
  {
   "cell_type": "markdown",
   "metadata": {},
   "source": [
    "There are 299 negative values within this feature. Lets take a closer look at them. "
   ]
  },
  {
   "cell_type": "code",
   "execution_count": 1168,
   "metadata": {},
   "outputs": [
    {
     "data": {
      "text/plain": [
       "array([-24620, -20704, -20703, -20218, -20115, -20114, -20054, -19999,\n",
       "       -19926, -19818, -19665, -19658, -19537, -19094, -19049, -18990,\n",
       "       -18947, -18722, -18606, -17266, -17261, -16892, -16823, -16659,\n",
       "       -16559, -16328, -16200, -16109, -16064, -16034, -15992, -15306,\n",
       "       -15168, -14484, -13940, -13826, -13402, -13320, -13120, -12936,\n",
       "       -12896, -12735, -12328, -12323, -12276, -12207, -12161, -12111,\n",
       "       -11890, -11713, -10880, -10851, -10820, -10800, -10725, -10673,\n",
       "       -10609, -10496, -10467, -10453, -10377, -10333, -10231, -10159,\n",
       "        -9991,  -9888,  -9852,  -9824,  -9724,  -9714,  -9439,  -9414,\n",
       "        -9274,  -9256,  -8817,  -8755,  -8644,  -8607,  -8606,  -8599,\n",
       "        -8542,  -8450,  -8398,  -8380,  -8350,  -8181,  -8146,  -8048,\n",
       "        -8008,  -7980,  -7882,  -7779,  -7674,  -7654,  -7642,  -7560,\n",
       "        -7553,  -7512,  -7327,  -7171,  -7005,  -6940,  -6885,  -6849,\n",
       "        -6833,  -6815,  -6755,  -6737,  -6725,  -6635,  -6557,  -6496,\n",
       "        -6432,  -6388,  -6384,  -6382,  -6380,  -6349,  -6306,  -6288,\n",
       "        -6272,  -6215,  -6183,  -6161,  -6135,  -6132,  -6033,  -5889,\n",
       "        -5869,  -5836,  -5802,  -5745,  -5660,  -5649,  -5582,  -5561,\n",
       "        -5516,  -5505,  -5477,  -5467,  -5440,  -5437,  -5406,  -5399,\n",
       "        -5381,  -5380,  -5377,  -5343,  -5329,  -5288,  -5272,  -5238,\n",
       "        -5228,  -5204,  -5112,  -5093,  -5087,  -5079,  -5071,  -5046,\n",
       "        -5033,  -4969,  -4898,  -4813,  -4810,  -4771,  -4765,  -4717,\n",
       "        -4705,  -4687,  -4684,  -4639,  -4614,  -4591,  -4559,  -4546,\n",
       "        -4543,  -4539,  -4523,  -4507,  -4481,  -4479,  -4478,  -4449,\n",
       "        -4422,  -4381,  -4377,  -4317,  -4284,  -4278,  -4233,  -4221,\n",
       "        -4213,  -4181,  -4178,  -4163,  -4037,  -4023,  -4003,  -4000,\n",
       "        -3999,  -3983,  -3977,  -3975,  -3944,  -3935,  -3919,  -3875,\n",
       "        -3760,  -3735,  -3732,  -3692,  -3660,  -3611,  -3591,  -3578,\n",
       "        -3517,  -3508,  -3506,  -3464,  -3461,  -3419,  -3407,  -3399,\n",
       "        -3346,  -3230,  -3198,  -3196,  -3180,  -3161,  -3145,  -3131,\n",
       "        -3117,  -3110,  -3072,  -3068,  -3057,  -3004,  -3002,  -2996,\n",
       "        -2974,  -2956,  -2950,  -2942,  -2928,  -2859,  -2858,  -2853,\n",
       "        -2835,  -2819,  -2811,  -2773,  -2741,  -2728,  -2700,  -2693,\n",
       "        -2688,  -2678,  -2673,  -2660,  -2659,  -2654,  -2572,  -2570,\n",
       "        -2543,  -2523,  -2509,  -2496,  -2437,  -2356,  -2340,  -2332,\n",
       "        -2328,  -2315,  -2306,  -2290,  -2244,  -2206,  -2201,  -2187,\n",
       "        -2185,  -2145,  -2121,  -2115,  -2111,  -2109,  -2073,  -2033,\n",
       "        -2015,  -2014,  -2011,  -2007,  -1859,  -1675,  -1611,  -1441,\n",
       "        -1091])"
      ]
     },
     "execution_count": 1168,
     "metadata": {},
     "output_type": "execute_result"
    }
   ],
   "source": [
    "np.sort(df['Monthly Income'][df['Monthly Income']< 0].unique())"
   ]
  },
  {
   "cell_type": "markdown",
   "metadata": {},
   "source": [
    "There are many different negative values. Lets take a look at the distribution of them. "
   ]
  },
  {
   "cell_type": "code",
   "execution_count": 1169,
   "metadata": {},
   "outputs": [
    {
     "data": {
      "text/plain": [
       "<seaborn.axisgrid.FacetGrid at 0x13eba6580>"
      ]
     },
     "execution_count": 1169,
     "metadata": {},
     "output_type": "execute_result"
    },
    {
     "data": {
      "image/png": "[encoded data removed]",
      "text/plain": [
       "<Figure size 500x500 with 1 Axes>"
      ]
     },
     "metadata": {},
     "output_type": "display_data"
    }
   ],
   "source": [
    "sns.displot(df['Monthly Income'][df['Monthly Income']< 0])"
   ]
  },
  {
   "cell_type": "markdown",
   "metadata": {},
   "source": [
    "So so the fact that its weighted towards the lower incomes as well as the fact that there are so many different unique negative values, is leading me to believe that a negative sign (-) was incorrectly added to these datapoints. I suspect that the distribution plot of the positive incomes will look like a reflection on the y axis of this histogram.  "
   ]
  },
  {
   "cell_type": "code",
   "execution_count": 1170,
   "metadata": {},
   "outputs": [
    {
     "data": {
      "text/plain": [
       "<seaborn.axisgrid.FacetGrid at 0x13e91fb50>"
      ]
     },
     "execution_count": 1170,
     "metadata": {},
     "output_type": "execute_result"
    },
    {
     "data": {
      "image/png": "[encoded data removed]",
      "text/plain": [
       "<Figure size 500x500 with 1 Axes>"
      ]
     },
     "metadata": {},
     "output_type": "display_data"
    }
   ],
   "source": [
    "sns.displot(df['Monthly Income'][df['Monthly Income']>0])"
   ]
  },
  {
   "cell_type": "markdown",
   "metadata": {},
   "source": [
    "As suspected, it does. Therefore, I believe that the negative sign was added incorrectly. Will fix it by simply getting rid of the negative sign. "
   ]
  },
  {
   "cell_type": "code",
   "execution_count": 1171,
   "metadata": {},
   "outputs": [],
   "source": [
    "df['Monthly Income'] = df['Monthly Income'].abs()"
   ]
  },
  {
   "cell_type": "markdown",
   "metadata": {},
   "source": [
    "#### Travel Time"
   ]
  },
  {
   "cell_type": "markdown",
   "metadata": {},
   "source": [
    "Lets take a look at the travel time feature"
   ]
  },
  {
   "cell_type": "code",
   "execution_count": 1172,
   "metadata": {},
   "outputs": [
    {
     "data": {
      "text/plain": [
       "array(['0.2 hours', '0.7 hours', '20.0 mins', '0.3 hours', '50.0 mins',\n",
       "       '0.8 hours', '40.0 mins', '30.0 mins', '0.5 hours', '10.0 mins',\n",
       "       '22.152170491849265 mins', '0.9 hours', '42.27732027062228 mins',\n",
       "       '0.1 hours', '0.4 hours', '32.56739255726553 mins',\n",
       "       '53.0473542956937 mins', '19.815236022824735 mins',\n",
       "       '52.205729235648725 mins', '22.49412777253371 mins',\n",
       "       '41.12707947908584 mins', '31.401497196062657 mins',\n",
       "       '53.37674112017733 mins', '50.60372068235221 mins',\n",
       "       '11.56004318189624 mins', '15.116187429153692 mins',\n",
       "       '49.445802785304686 mins', '31.72861394229167 mins',\n",
       "       '22.31098873338772 mins', '53.18722436287888 mins',\n",
       "       '19.102285459123923 mins', '23.03104712045909 mins',\n",
       "       '23.892979061709347 mins', '51.64755091792997 mins',\n",
       "       '53.303308014961566 mins', '41.86978196397573 mins',\n",
       "       '22.04441072020257 mins', '21.07218069435354 mins',\n",
       "       '50.80163006842338 mins', '20.599094553649145 mins',\n",
       "       '13.727332280617391 mins', '28.671029964990858 mins',\n",
       "       '30.933071333256493 mins', '51.88018588030678 mins',\n",
       "       '20.227716637032657 mins', '22.41011120769722 mins',\n",
       "       '21.791675911422782 mins', '51.50709638859029 mins',\n",
       "       '22.591773506815176 mins', '47.900590149323484 mins',\n",
       "       '50.40762820963656 mins', '22.487163034443626 mins',\n",
       "       '32.80808777194992 mins', '50.15720781908187 mins',\n",
       "       '30.38335524976432 mins', '42.0219637663883 mins',\n",
       "       '22.505971546334035 mins', '30.42465751477493 mins',\n",
       "       '52.64380758590413 mins', '51.25508760451567 mins',\n",
       "       '41.71080005534584 mins', '13.872602812250308 mins',\n",
       "       '31.619930683771766 mins', '20.813038182322924 mins',\n",
       "       '15.094591621856896 mins', '21.324978752235094 mins',\n",
       "       '48.30408494624948 mins', '22.4007994219388 mins',\n",
       "       '54.34460189421 mins', '52.08437967246619 mins',\n",
       "       '53.41940582509796 mins', '14.82703362183857 mins',\n",
       "       '52.39034420929106 mins', '31.92607783992205 mins',\n",
       "       '52.55734081241525 mins', '50.20113742074326 mins',\n",
       "       '19.336460514730547 mins', '49.54503282298889 mins',\n",
       "       '52.69808454949779 mins', '40.79869799679479 mins',\n",
       "       '23.33904621140168 mins', '21.323274441938903 mins',\n",
       "       '22.29219641326736 mins', '14.025806820892663 mins',\n",
       "       '42.40785959327718 mins', '23.11223948640351 mins',\n",
       "       '21.12793794001551 mins', '23.320031001446697 mins',\n",
       "       '20.17329521239999 mins', '23.09783968990261 mins',\n",
       "       '53.18180743253952 mins', '15.145925658183373 mins',\n",
       "       '52.42497451369364 mins', '39.42487458182194 mins',\n",
       "       '21.46217301136712 mins', '41.27111484684325 mins',\n",
       "       '31.859418660301028 mins', '41.34064605061855 mins',\n",
       "       '20.58323964831301 mins', '31.26477350939416 mins',\n",
       "       '22.46092300609209 mins', '22.41716955445792 mins',\n",
       "       '52.32020580115619 mins', '23.514036489272524 mins',\n",
       "       '41.26207210231885 mins', '30.871617513954497 mins',\n",
       "       '23.28891750330588 mins', '21.42025087422548 mins',\n",
       "       '54.1029041551851 mins', '22.96968613087884 mins',\n",
       "       '20.7481470706258 mins', '21.215679370953207 mins',\n",
       "       '20.35888120117056 mins', '32.16378533720541 mins',\n",
       "       '13.300743368798337 mins', '49.06109108003364 mins',\n",
       "       '14.256810626609932 mins', '22.85226746240323 mins',\n",
       "       '15.047595757534287 mins', '21.8297511116968 mins',\n",
       "       '10.681900584899251 mins', '41.51041653648922 mins',\n",
       "       '42.10684032871263 mins', '23.180630740143272 mins',\n",
       "       '41.85838280138411 mins', '40.184867764901526 mins',\n",
       "       '51.893012339564734 mins', '20.600527019305943 mins',\n",
       "       '21.74073394637648 mins', '19.269843651291733 mins',\n",
       "       '52.25009541416928 mins', '11.87208007583402 mins',\n",
       "       '41.60633042215067 mins', '22.65618057313648 mins',\n",
       "       '49.91544262190851 mins', '14.34579624520094 mins',\n",
       "       '42.47724445274027 mins', '53.44038658589127 mins',\n",
       "       '23.339694641192985 mins', '13.319176318160611 mins',\n",
       "       '53.59912402939486 mins', '40.95810966923427 mins',\n",
       "       '21.81486973653505 mins', '52.27645653032988 mins',\n",
       "       '50.97732104383988 mins', '31.563006327052985 mins',\n",
       "       '40.60835681688992 mins', '32.237397633962246 mins',\n",
       "       '22.52577433410421 mins', '22.571030584396347 mins',\n",
       "       '21.972445259722 mins', '22.02107331962929 mins',\n",
       "       '20.594075927171303 mins', '41.52979911480378 mins',\n",
       "       '20.391175180546732 mins', '52.436078852190015 mins',\n",
       "       '9.923969215280364 mins', '14.850334811990816 mins',\n",
       "       '22.34184442818973 mins', '41.88090118912297 mins',\n",
       "       '42.46627333745324 mins', '51.62719502873611 mins',\n",
       "       '49.04087050348848 mins', '42.79964568064613 mins',\n",
       "       '50.56082601966867 mins', '20.560006071140283 mins',\n",
       "       '39.62825445633217 mins', '52.63238557607775 mins',\n",
       "       '15.487594810210153 mins', '52.12405879781181 mins',\n",
       "       '50.85014868611178 mins', '53.59857687961105 mins',\n",
       "       '54.19698383213485 mins', '21.957465848452514 mins',\n",
       "       '22.130819113071446 mins', '53.75233599748068 mins',\n",
       "       '22.59821606032108 mins', '22.19135153941856 mins',\n",
       "       '14.96946156326879 mins', '52.283879774863 mins',\n",
       "       '22.752089234087045 mins', '22.764510345688294 mins',\n",
       "       '32.242343509408826 mins', '22.83522435944132 mins',\n",
       "       '19.57020142850265 mins', '12.588453161503203 mins',\n",
       "       '20.43230354146121 mins', '21.44816497980256 mins',\n",
       "       '21.434988800424424 mins', '21.514173260384176 mins',\n",
       "       '20.81207331727548 mins', '22.938453471430293 mins',\n",
       "       '22.472973983949807 mins', '51.97322612014704 mins',\n",
       "       '22.58212042890362 mins', '21.709865475255903 mins',\n",
       "       '22.899488988785446 mins', '31.928129177079803 mins',\n",
       "       '51.31490375914162 mins', '14.779809117183348 mins',\n",
       "       '24.07459202652792 mins', '23.053343440817294 mins',\n",
       "       '13.694205336395786 mins', '50.46050861396399 mins',\n",
       "       '14.932631202273845 mins', '42.59995258914445 mins',\n",
       "       '33.07452616058919 mins', '42.75735040887216 mins',\n",
       "       '9.38585655239179 mins', '16.144940048135517 mins',\n",
       "       '10.89490795589676 mins', '22.75110482506716 mins',\n",
       "       '51.12050579160884 mins', '19.76615109884311 mins',\n",
       "       '22.050337540532677 mins', '21.825582742894 mins',\n",
       "       '15.52640800525069 mins', '52.40917987746836 mins',\n",
       "       '14.203764784946753 mins', '22.61520729901954 mins',\n",
       "       '49.69041310144018 mins', '48.12694586740248 mins',\n",
       "       '42.590195190023074 mins', '21.764071220451548 mins',\n",
       "       '22.19698070947575 mins', '20.83444028688036 mins',\n",
       "       '13.287516696822664 mins', '42.32893783202102 mins',\n",
       "       '54.04169593942456 mins', '51.98248799442535 mins',\n",
       "       '11.417527466555558 mins', '51.17000242110082 mins',\n",
       "       '23.616130659379408 mins', '50.95138341571276 mins',\n",
       "       '14.241216842127017 mins', '52.52010690092824 mins',\n",
       "       '53.01342894438184 mins', '41.176783284535965 mins',\n",
       "       '50.57380147031991 mins', '22.704107706498004 mins',\n",
       "       '19.194119486440503 mins', '18.403903108469738 mins',\n",
       "       '31.363229911412844 mins', '15.48416563338633 mins',\n",
       "       '12.7557224040902 mins', '31.63183656003589 mins',\n",
       "       '41.99756389299486 mins', '23.019536289930457 mins',\n",
       "       '52.45065663319532 mins', '42.96952612092296 mins',\n",
       "       '22.542339526853176 mins', '22.77462160009304 mins',\n",
       "       '39.18489806049504 mins', '22.811122403725893 mins',\n",
       "       '23.788209960590564 mins', '31.253626833391216 mins',\n",
       "       '50.75196051895256 mins', '52.8155819422348 mins',\n",
       "       '21.865115834963728 mins', '42.9238790543524 mins',\n",
       "       '16.391130024858832 mins', '16.261741433034395 mins',\n",
       "       '14.107806920707208 mins', '0.6 hours', '20.067432571865822 mins',\n",
       "       '52.19973698689788 mins', '14.818304613484557 mins',\n",
       "       '53.06224001436708 mins', '22.686787066477542 mins',\n",
       "       '10.137790251096856 mins', '23.528468163320717 mins',\n",
       "       '50.89209929419867 mins', '15.347132148043432 mins',\n",
       "       '22.22787131778194 mins', '21.67490706421872 mins',\n",
       "       '52.83976094836815 mins', '52.57600732134672 mins',\n",
       "       '21.7786304046889 mins', '52.90927197774822 mins',\n",
       "       '31.155324965039355 mins', '23.470646340478893 mins',\n",
       "       '21.16234001195356 mins', '20.63172210878804 mins',\n",
       "       '51.836382926860175 mins', '32.300010006829694 mins',\n",
       "       '52.47702246870715 mins', '54.15047403579555 mins',\n",
       "       '49.35376142564925 mins', '13.047653934547355 mins',\n",
       "       '22.50402069103916 mins', '19.700649917934903 mins',\n",
       "       '23.68384565372309 mins', '14.68464293079962 mins',\n",
       "       '21.24283980023364 mins', '53.57106719134365 mins',\n",
       "       '23.88962331736604 mins', '21.43845738116528 mins',\n",
       "       '41.233053849609085 mins', '21.649544047912283 mins',\n",
       "       '52.66440076997727 mins', '23.22331578795041 mins',\n",
       "       '53.53164468072143 mins', '52.2692409372511 mins',\n",
       "       '54.04977369898207 mins', '19.52441205153172 mins',\n",
       "       '52.046759069137366 mins', '52.07406184334906 mins',\n",
       "       '52.537686779237866 mins', '42.858221070550414 mins',\n",
       "       '23.676328371479972 mins', '20.316959949516345 mins',\n",
       "       '10.635320201593055 mins', '40.977326776466604 mins',\n",
       "       '22.8720019411435 mins', '53.03071091364476 mins',\n",
       "       '50.54440463147743 mins', '14.33010954882256 mins',\n",
       "       '23.457943643876582 mins', '51.27106541056075 mins',\n",
       "       '22.76857220300372 mins', '8.156819711857873 mins',\n",
       "       '12.204197606699596 mins', '14.678315930434325 mins',\n",
       "       '20.957673571779534 mins', '20.20375971150758 mins',\n",
       "       '21.508327651900743 mins', '53.35794423916799 mins',\n",
       "       '52.88741931681425 mins', '21.35302719890432 mins',\n",
       "       '33.075456754549286 mins', '14.103504714598357 mins',\n",
       "       '30.842957504567785 mins', '13.585102365692483 mins',\n",
       "       '22.40178104799821 mins', '51.89407684822767 mins',\n",
       "       '11.330252582887711 mins', '22.408472296972256 mins',\n",
       "       '22.02102980424728 mins', '23.12103414750589 mins',\n",
       "       '42.89339274847861 mins', '19.49892361225648 mins',\n",
       "       '53.743841460217226 mins', '22.843335171255404 mins',\n",
       "       '30.314845407272717 mins', '23.588285115828647 mins',\n",
       "       '22.75501412554912 mins', '51.37544035222954 mins',\n",
       "       '32.64214754519077 mins', '52.88860446389312 mins',\n",
       "       '22.743496970110314 mins', '52.27092486076362 mins',\n",
       "       '31.871990857004636 mins', '23.07549277026299 mins',\n",
       "       '51.2736673953682 mins', '40.698335960070246 mins',\n",
       "       '51.4092735287126 mins', '12.107738360756878 mins',\n",
       "       '52.79125250678084 mins', '23.103604466033985 mins',\n",
       "       '32.65127730244465 mins', '42.51124792640688 mins',\n",
       "       '21.1520387572471 mins', '10.798557303407902 mins',\n",
       "       '23.20810083702595 mins', '42.46006410130073 mins',\n",
       "       '41.82912100113601 mins', '39.683920934251965 mins',\n",
       "       '10.388673586452638 mins', '41.40604753953018 mins',\n",
       "       '52.976158752882206 mins', '21.42963248699225 mins',\n",
       "       '11.513563042818268 mins', '22.877301203885875 mins',\n",
       "       '13.184901502598697 mins', '22.52553651748157 mins',\n",
       "       '47.83183451110045 mins', '15.44529634867618 mins',\n",
       "       '22.819797397527733 mins', '42.4837548129132 mins',\n",
       "       '50.95190099581147 mins', '14.587429257392351 mins',\n",
       "       '40.42685848224118 mins', '49.73283490725193 mins',\n",
       "       '51.801863527211616 mins', '32.805002485842515 mins',\n",
       "       '52.399696193682 mins', '48.54542401458052 mins',\n",
       "       '13.849636447454063 mins', '52.248182897081314 mins',\n",
       "       '42.27650086017715 mins', '21.7336010921739 mins',\n",
       "       '22.187332691492337 mins', '31.662254851289 mins',\n",
       "       '40.7748427459171 mins', '11.79221534399483 mins',\n",
       "       '23.105066532270413 mins', '31.723707573192453 mins',\n",
       "       '52.874143781790345 mins', '21.36819736946473 mins',\n",
       "       '50.85002649915872 mins', '54.05261120891208 mins',\n",
       "       '31.24134923831327 mins', '53.58341861840386 mins',\n",
       "       '19.31337756529368 mins', '15.96142235614319 mins',\n",
       "       '40.796091312298216 mins', '22.676330218980745 mins',\n",
       "       '52.528156639337794 mins', '12.004539148904282 mins',\n",
       "       '51.30756487301183 mins', '22.15327747762837 mins',\n",
       "       '11.873843153979392 mins', '41.52953477303342 mins',\n",
       "       '23.34949243304938 mins', '50.050117259476686 mins',\n",
       "       '12.571840129245397 mins', '51.66388547743247 mins',\n",
       "       '7.496477958262444 mins', '52.87524810997933 mins',\n",
       "       '22.05420737357513 mins', '52.20056228344509 mins',\n",
       "       '42.97998581580529 mins', '21.09148805190958 mins',\n",
       "       '54.65712706665007 mins', '53.47715239672767 mins',\n",
       "       '21.280801152124475 mins', '32.773127647439175 mins',\n",
       "       '15.515720996445264 mins', '15.919613287680717 mins',\n",
       "       '16.520360623644432 mins', '53.6551604261208 mins',\n",
       "       '49.157951413479 mins', '21.53918865962731 mins',\n",
       "       '23.71461988368203 mins', '22.576866705514515 mins',\n",
       "       '53.68151711788962 mins', '40.64271884393002 mins',\n",
       "       '48.42769950306533 mins', '20.23763986767013 mins',\n",
       "       '40.77837094838493 mins', '52.64058013957833 mins',\n",
       "       '50.69124318946032 mins', '53.93161412227492 mins',\n",
       "       '41.56882145292526 mins', '49.8859598346469 mins',\n",
       "       '50.84425111934509 mins', '54.70691976169218 mins',\n",
       "       '14.830577118828703 mins', '40.547249287849176 mins',\n",
       "       '13.29227447093508 mins', '41.938633039426094 mins',\n",
       "       '21.753916324166585 mins', '41.52515631207342 mins',\n",
       "       '22.30819590605013 mins', '52.49082273659649 mins',\n",
       "       '22.31062568354358 mins', '50.15929758836563 mins',\n",
       "       '49.925736287394265 mins', '31.77693000558905 mins',\n",
       "       '30.1253610809946 mins', '42.26009479962266 mins',\n",
       "       '52.33430102849771 mins', '20.61988693686555 mins',\n",
       "       '20.93962569358696 mins', '53.826570802487474 mins',\n",
       "       '53.753715817798 mins', '22.06069723740916 mins',\n",
       "       '54.26607424933611 mins', '31.73770638799526 mins',\n",
       "       '22.055671084288207 mins', '41.58356024764946 mins',\n",
       "       '39.57098515508419 mins', '53.85023126990388 mins',\n",
       "       '42.13487526927105 mins', '42.31223555174613 mins',\n",
       "       '32.56947262631226 mins', '23.450212073676685 mins',\n",
       "       '13.856486665958792 mins', '22.74367583857011 mins',\n",
       "       '21.41981331693946 mins', '42.74882673546048 mins',\n",
       "       '29.767914396565217 mins', '31.22769251256376 mins',\n",
       "       '53.27550779163376 mins', '52.206546568290726 mins',\n",
       "       '50.80355305657189 mins', '32.31888506215368 mins',\n",
       "       '13.704497362604137 mins', '42.58781895858382 mins',\n",
       "       '22.70285891623273 mins', '53.93026527270008 mins',\n",
       "       '20.84989324417477 mins', '20.431235106009623 mins',\n",
       "       '50.64698054170748 mins', '41.66264865701985 mins',\n",
       "       '31.57647649505106 mins', '22.67356471525512 mins',\n",
       "       '16.10246218529187 mins', '42.86468140686326 mins',\n",
       "       '53.57672923298777 mins', '40.92685142653943 mins',\n",
       "       '22.90518267292644 mins', '31.430441182261912 mins',\n",
       "       '49.324650402515935 mins', '21.74397723381684 mins',\n",
       "       '22.57346263885746 mins', '22.611396414139925 mins',\n",
       "       '41.83207103567605 mins', '15.246139486666744 mins',\n",
       "       '20.84195655713784 mins', '19.81291359486926 mins',\n",
       "       '20.388227076664315 mins', '11.99514348699618 mins',\n",
       "       '30.1469920906307 mins', '22.26771976987307 mins',\n",
       "       '40.16438743259496 mins', '17.37716462722401 mins',\n",
       "       '32.36576572816357 mins', '21.482299255043724 mins',\n",
       "       '12.434043010881483 mins', '15.262053538881492 mins',\n",
       "       '48.32368160981341 mins', '53.61316468923773 mins',\n",
       "       '31.884495613579915 mins', '21.88522209192417 mins'], dtype=object)"
      ]
     },
     "execution_count": 1172,
     "metadata": {},
     "output_type": "execute_result"
    }
   ],
   "source": [
    "df['Travel Time'].unique()"
   ]
  },
  {
   "cell_type": "markdown",
   "metadata": {},
   "source": [
    "So we see 2 things we need to think about here. Firstly, the data is recorded with 2 types. \n",
    "    1. mins\n",
    "    2. hours\n",
    "Secondly, the data is all recorded as strings. Lets deal with these issues. "
   ]
  },
  {
   "cell_type": "markdown",
   "metadata": {},
   "source": [
    "First lets check that hours and mins are the only 2 time measurements used."
   ]
  },
  {
   "cell_type": "code",
   "execution_count": 1173,
   "metadata": {},
   "outputs": [
    {
     "data": {
      "text/plain": [
       "array(['hours', ' mins'], dtype=object)"
      ]
     },
     "execution_count": 1173,
     "metadata": {},
     "output_type": "execute_result"
    }
   ],
   "source": [
    "def checkTimeMeasurement(travelTime : str):\n",
    "    return travelTime[-5:]\n",
    "df.apply(lambda x: checkTimeMeasurement(x['Travel Time']), axis = 1).unique()"
   ]
  },
  {
   "cell_type": "markdown",
   "metadata": {},
   "source": [
    "So we now know, that there are only 2 ways that the time taken to arrive at the country club is recorded. Lets now convert everything to minutes so that its consistent across datapoints. The reason why minutes is chosen here, is just cause i prefer it. Additionally, I do not think that the decimal places are necessary for this column as when we have decimal points with minutes, it just means seconds. I do not think that the number of seconds more than a particular minute it takes to reach the country club would be relevant. "
   ]
  },
  {
   "cell_type": "code",
   "execution_count": 1174,
   "metadata": {},
   "outputs": [],
   "source": [
    "def convertTravelTimeToMinutes(travelTime : str):\n",
    "    if travelTime[-5:] == 'hours':\n",
    "        return int(np.round(float(travelTime[:-6])*60))\n",
    "    else:\n",
    "        return int(np.round(float(travelTime[:-6])))\n",
    "df['Travel Time'] = df['Travel Time'].apply(convertTravelTimeToMinutes)"
   ]
  },
  {
   "cell_type": "code",
   "execution_count": 1175,
   "metadata": {},
   "outputs": [
    {
     "data": {
      "text/plain": [
       "0       12\n",
       "1       42\n",
       "2       20\n",
       "3       20\n",
       "4       18\n",
       "        ..\n",
       "2465    24\n",
       "2466    54\n",
       "2467    30\n",
       "2468    32\n",
       "2469    22\n",
       "Name: Travel Time, Length: 2470, dtype: int64"
      ]
     },
     "execution_count": 1175,
     "metadata": {},
     "output_type": "execute_result"
    }
   ],
   "source": [
    "df['Travel Time']"
   ]
  },
  {
   "cell_type": "markdown",
   "metadata": {},
   "source": [
    "#### Qualification"
   ]
  },
  {
   "cell_type": "code",
   "execution_count": 1176,
   "metadata": {},
   "outputs": [
    {
     "data": {
      "text/plain": [
       "array(['Diploma', 'Master', 'Bachelor', 'Ph.D', \"Bachelor's\", \"Master's\",\n",
       "       'Doctor of Philosophy'], dtype=object)"
      ]
     },
     "execution_count": 1176,
     "metadata": {},
     "output_type": "execute_result"
    }
   ],
   "source": [
    "df['Qualification'].unique()"
   ]
  },
  {
   "cell_type": "markdown",
   "metadata": {},
   "source": [
    "So we have several repeats of the same info but spelt slightly differently (some with apostrophe's, some without and different words to represent PhD). So lets fix that so that its all uniform. "
   ]
  },
  {
   "cell_type": "code",
   "execution_count": 1177,
   "metadata": {},
   "outputs": [
    {
     "data": {
      "text/plain": [
       "array(['Diploma', 'Master', 'Bachelor', 'Ph.D'], dtype=object)"
      ]
     },
     "execution_count": 1177,
     "metadata": {},
     "output_type": "execute_result"
    }
   ],
   "source": [
    "def fixQualifications(qualifications: str):\n",
    "    if qualifications == \"Bachelor's\":\n",
    "        return 'Bachelor'\n",
    "    if qualifications == \"Master's\":\n",
    "        return 'Master'\n",
    "    if qualifications == 'Doctor of Philosophy':\n",
    "        return 'Ph.D'\n",
    "    else: \n",
    "        return qualifications\n",
    "df['Qualification'] = df['Qualification'].apply(fixQualifications)\n",
    "df['Qualification'].unique()"
   ]
  },
  {
   "cell_type": "markdown",
   "metadata": {},
   "source": [
    "#### Work Domain"
   ]
  },
  {
   "cell_type": "code",
   "execution_count": 1178,
   "metadata": {},
   "outputs": [
    {
     "data": {
      "text/plain": [
       "array(['Engineering', 'Medical', 'Information Technology', 'Business',\n",
       "       'Science', 'Unemployed'], dtype=object)"
      ]
     },
     "execution_count": 1178,
     "metadata": {},
     "output_type": "execute_result"
    }
   ],
   "source": [
    "df['Work Domain'].unique()"
   ]
  },
  {
   "cell_type": "markdown",
   "metadata": {},
   "source": [
    "There seem to be no issues with the Work Domain feature. "
   ]
  },
  {
   "cell_type": "markdown",
   "metadata": {},
   "source": [
    "#### Usage Rate"
   ]
  },
  {
   "cell_type": "code",
   "execution_count": 1179,
   "metadata": {},
   "outputs": [
    {
     "data": {
      "text/plain": [
       "array([2, 3, 4, 1])"
      ]
     },
     "execution_count": 1179,
     "metadata": {},
     "output_type": "execute_result"
    }
   ],
   "source": [
    "df['Usage Rate'].unique()"
   ]
  },
  {
   "cell_type": "markdown",
   "metadata": {},
   "source": [
    "No issues found with Usage Rate feature. "
   ]
  },
  {
   "cell_type": "markdown",
   "metadata": {},
   "source": [
    "#### Branch"
   ]
  },
  {
   "cell_type": "code",
   "execution_count": 1180,
   "metadata": {},
   "outputs": [
    {
     "data": {
      "text/plain": [
       "array(['Changi', 'Thomson', 'Kranji'], dtype=object)"
      ]
     },
     "execution_count": 1180,
     "metadata": {},
     "output_type": "execute_result"
    }
   ],
   "source": [
    "df['Branch'].unique()"
   ]
  },
  {
   "cell_type": "markdown",
   "metadata": {},
   "source": [
    "No issues found with Branch feature"
   ]
  },
  {
   "cell_type": "markdown",
   "metadata": {},
   "source": [
    "#### Membership"
   ]
  },
  {
   "cell_type": "code",
   "execution_count": 1181,
   "metadata": {},
   "outputs": [
    {
     "data": {
      "text/plain": [
       "array(['Gold', 'Normal', 'Bronze', 'Silver'], dtype=object)"
      ]
     },
     "execution_count": 1181,
     "metadata": {},
     "output_type": "execute_result"
    }
   ],
   "source": [
    "df['Membership'].unique()"
   ]
  },
  {
   "cell_type": "markdown",
   "metadata": {},
   "source": [
    "No issues found. Although I am going to assume that the membership tiers go: Normal < Bronze < Silver < Gold. "
   ]
  },
  {
   "cell_type": "markdown",
   "metadata": {},
   "source": [
    "#### Months"
   ]
  },
  {
   "cell_type": "code",
   "execution_count": 1182,
   "metadata": {},
   "outputs": [
    {
     "data": {
      "text/plain": [
       "array([ 0,  1,  2,  3,  4,  5,  6,  7,  8,  9, 10, 11, 12, 13, 14, 15, 16,\n",
       "       17, 18, 19, 20, 21, 22, 23, 24, 25, 26, 27, 28, 29, 30, 31, 32, 33,\n",
       "       34, 35, 36, 37, 38, 39, 40, 41, 42, 43, 44, 45, 46, 47, 48, 49, 50,\n",
       "       51, 52, 53, 57])"
      ]
     },
     "execution_count": 1182,
     "metadata": {},
     "output_type": "execute_result"
    }
   ],
   "source": [
    "np.sort(df['Months'].unique())"
   ]
  },
  {
   "cell_type": "markdown",
   "metadata": {},
   "source": [
    "No issues found with Months feature. "
   ]
  },
  {
   "cell_type": "markdown",
   "metadata": {},
   "source": [
    "#### Birth Year"
   ]
  },
  {
   "cell_type": "code",
   "execution_count": 1183,
   "metadata": {},
   "outputs": [
    {
     "data": {
      "text/plain": [
       "array([  -1, 1953, 1954, 1955, 1956, 1957, 1958, 1959, 1960, 1961, 1962,\n",
       "       1963, 1964, 1965, 1966, 1967, 1968, 1969, 1970, 1971, 1972, 1973,\n",
       "       1974, 1975, 1976, 1977, 1978, 1979, 1980, 1981, 1982, 1983, 1984,\n",
       "       1985, 1986, 1987, 1988, 1989, 1990, 1991, 1992, 1993, 1994, 1995,\n",
       "       1996, 1997, 1998, 1999, 2000, 2001, 2002, 2003, 2004])"
      ]
     },
     "execution_count": 1183,
     "metadata": {},
     "output_type": "execute_result"
    }
   ],
   "source": [
    "np.sort(df['Birth Year'].unique())"
   ]
  },
  {
   "cell_type": "markdown",
   "metadata": {},
   "source": [
    "There is a negative value (-1) within the birth year feature. Lets take a closer look. "
   ]
  },
  {
   "cell_type": "code",
   "execution_count": 1184,
   "metadata": {},
   "outputs": [
    {
     "data": {
      "text/plain": [
       "308"
      ]
     },
     "execution_count": 1184,
     "metadata": {},
     "output_type": "execute_result"
    }
   ],
   "source": [
    "df['Birth Year'][df['Birth Year'] == -1].count()"
   ]
  },
  {
   "cell_type": "markdown",
   "metadata": {},
   "source": [
    "There are 308 datapoints with negative values. We will deal with this in a later section together with the negative values of the Age feature. "
   ]
  },
  {
   "cell_type": "code",
   "execution_count": null,
   "metadata": {},
   "outputs": [],
   "source": []
  },
  {
   "cell_type": "markdown",
   "metadata": {},
   "source": [
    "#### Usage Time"
   ]
  },
  {
   "cell_type": "code",
   "execution_count": 1185,
   "metadata": {},
   "outputs": [
    {
     "data": {
      "text/plain": [
       "array([ 0,  1,  2,  3,  4,  5,  6,  7,  8,  9, 10, 11, 12, 13, 14, 15, 16,\n",
       "       17, 18, 19, 20])"
      ]
     },
     "execution_count": 1185,
     "metadata": {},
     "output_type": "execute_result"
    }
   ],
   "source": [
    "np.sort(df['Usage Time'].unique())"
   ]
  },
  {
   "cell_type": "markdown",
   "metadata": {},
   "source": [
    "We note here that a usage time of 20 hours seems unrealistic as after a quick google, the country clubs in Singapore are open for at most 18 hours per day. We will assume that any datapoints with a usage time greater than that was a mistype and will just set any number greater than 18 to 18. "
   ]
  },
  {
   "cell_type": "code",
   "execution_count": 1186,
   "metadata": {},
   "outputs": [],
   "source": [
    "def changeUsageTime(usageTime: int):\n",
    "    if usageTime > 18:\n",
    "        return 18\n",
    "    else:\n",
    "        return usageTime\n",
    "df['Usage Time'] = df['Usage Time'].apply(changeUsageTime)"
   ]
  },
  {
   "cell_type": "code",
   "execution_count": 1187,
   "metadata": {},
   "outputs": [
    {
     "data": {
      "text/plain": [
       "array([ 0,  1,  2,  3,  4,  5,  6,  7,  8,  9, 10, 11, 12, 13, 14, 15, 16,\n",
       "       17, 18])"
      ]
     },
     "execution_count": 1187,
     "metadata": {},
     "output_type": "execute_result"
    }
   ],
   "source": [
    "np.sort(df['Usage Time'].unique())"
   ]
  },
  {
   "cell_type": "markdown",
   "metadata": {},
   "source": [
    "#### Dealing with the negative values in Age and Birth Year feature"
   ]
  },
  {
   "cell_type": "markdown",
   "metadata": {},
   "source": [
    "In this section, we will deal with the negative values found in the Age and Birth Year feature. This is because, theoretically, Age + Months = Actual Age of Client, where actual age of Client is calculated by taking the difference between Birth Year and 2022. Lets first consider whether its possible to fill all negative values using this method by first checking if there are any negative values in the same row for both features. "
   ]
  },
  {
   "cell_type": "markdown",
   "metadata": {},
   "source": [
    "For simplicity, we will change all negative values to NaaN as they are essentially the same thing i.e negative = missing"
   ]
  },
  {
   "cell_type": "code",
   "execution_count": 1188,
   "metadata": {},
   "outputs": [
    {
     "data": {
      "text/html": [
       "<div>\n",
       "<style scoped>\n",
       "    .dataframe tbody tr th:only-of-type {\n",
       "        vertical-align: middle;\n",
       "    }\n",
       "\n",
       "    .dataframe tbody tr th {\n",
       "        vertical-align: top;\n",
       "    }\n",
       "\n",
       "    .dataframe thead th {\n",
       "        text-align: right;\n",
       "    }\n",
       "</style>\n",
       "<table border=\"1\" class=\"dataframe\">\n",
       "  <thead>\n",
       "    <tr style=\"text-align: right;\">\n",
       "      <th></th>\n",
       "      <th>Member Unique ID</th>\n",
       "      <th>Attrition</th>\n",
       "      <th>Age</th>\n",
       "      <th>Gender</th>\n",
       "      <th>Monthly Income</th>\n",
       "      <th>Travel Time</th>\n",
       "      <th>Qualification</th>\n",
       "      <th>Work Domain</th>\n",
       "      <th>Usage Rate</th>\n",
       "      <th>Branch</th>\n",
       "      <th>Membership</th>\n",
       "      <th>Months</th>\n",
       "      <th>Birth Year</th>\n",
       "      <th>Usage Time</th>\n",
       "    </tr>\n",
       "  </thead>\n",
       "  <tbody>\n",
       "  </tbody>\n",
       "</table>\n",
       "</div>"
      ],
      "text/plain": [
       "Empty DataFrame\n",
       "Columns: [Member Unique ID, Attrition, Age, Gender, Monthly Income, Travel Time, Qualification, Work Domain, Usage Rate, Branch, Membership, Months, Birth Year, Usage Time]\n",
       "Index: []"
      ]
     },
     "execution_count": 1188,
     "metadata": {},
     "output_type": "execute_result"
    }
   ],
   "source": [
    "df['Age'] = df['Age'].mask(df['Age']<0)\n",
    "df['Birth Year'] = df['Birth Year'].mask(df['Birth Year']<0)\n",
    "df[(df['Age'].isna())&(df['Birth Year'].isna())]"
   ]
  },
  {
   "cell_type": "markdown",
   "metadata": {},
   "source": [
    "There are no datapoints where both Birth Year and Age are missing. We do not need to check the Months feature as we know from above, that no datapoints are missing. "
   ]
  },
  {
   "cell_type": "markdown",
   "metadata": {},
   "source": [
    "Lets now check and see if our idea abot Age + Months = Actual Age of the Member is a good way to fill in the missing values. We will first create a new column called 'Client Age' to get the actual age of the member calculated from their birth year. We will then check the difference between Age + Months and the Actual Age of the member.  "
   ]
  },
  {
   "cell_type": "code",
   "execution_count": 1189,
   "metadata": {},
   "outputs": [],
   "source": [
    "df['Birth Year'] = df['Birth Year'].mask(df['Birth Year'] < 0)\n",
    "df['Age'] = df['Age'].mask(df['Age'] < 0)\n",
    "def convertYearToAge(birth_year :int):\n",
    "    return 2022 - birth_year\n",
    "df['Client Age'] = df['Birth Year'].apply(convertYearToAge)"
   ]
  },
  {
   "cell_type": "code",
   "execution_count": 1190,
   "metadata": {},
   "outputs": [
    {
     "data": {
      "text/plain": [
       "count    1871.000000\n",
       "mean        0.881881\n",
       "std         0.764586\n",
       "min         0.000000\n",
       "25%         0.416667\n",
       "50%         0.666667\n",
       "75%         1.000000\n",
       "max         4.416667\n",
       "Name: Check Assumption, dtype: float64"
      ]
     },
     "execution_count": 1190,
     "metadata": {},
     "output_type": "execute_result"
    }
   ],
   "source": [
    "def checkAssumption(age_joining :float, age_current: float, num_months: float):\n",
    "    return (age_joining + (num_months)/12) - age_current\n",
    "df['Check Assumption'] = df.apply(lambda x: checkAssumption(x['Age'], x['Client Age'], x['Months']), axis = 1)\n",
    "df['Check Assumption'].describe()"
   ]
  },
  {
   "cell_type": "markdown",
   "metadata": {},
   "source": [
    "That is interesting. So there are situations where our theory is off by more than 4 years. Lets take a look at some of these datapoints. "
   ]
  },
  {
   "cell_type": "code",
   "execution_count": 1191,
   "metadata": {},
   "outputs": [
    {
     "data": {
      "text/html": [
       "<div>\n",
       "<style scoped>\n",
       "    .dataframe tbody tr th:only-of-type {\n",
       "        vertical-align: middle;\n",
       "    }\n",
       "\n",
       "    .dataframe tbody tr th {\n",
       "        vertical-align: top;\n",
       "    }\n",
       "\n",
       "    .dataframe thead th {\n",
       "        text-align: right;\n",
       "    }\n",
       "</style>\n",
       "<table border=\"1\" class=\"dataframe\">\n",
       "  <thead>\n",
       "    <tr style=\"text-align: right;\">\n",
       "      <th></th>\n",
       "      <th>Member Unique ID</th>\n",
       "      <th>Attrition</th>\n",
       "      <th>Age</th>\n",
       "      <th>Gender</th>\n",
       "      <th>Monthly Income</th>\n",
       "      <th>Travel Time</th>\n",
       "      <th>Qualification</th>\n",
       "      <th>Work Domain</th>\n",
       "      <th>Usage Rate</th>\n",
       "      <th>Branch</th>\n",
       "      <th>Membership</th>\n",
       "      <th>Months</th>\n",
       "      <th>Birth Year</th>\n",
       "      <th>Usage Time</th>\n",
       "      <th>Client Age</th>\n",
       "      <th>Check Assumption</th>\n",
       "    </tr>\n",
       "  </thead>\n",
       "  <tbody>\n",
       "    <tr>\n",
       "      <th>18</th>\n",
       "      <td>7dc2b0af-0f59-47b8-990f-2f19b6c13db6</td>\n",
       "      <td>0</td>\n",
       "      <td>53.0</td>\n",
       "      <td>Female</td>\n",
       "      <td>15427</td>\n",
       "      <td>20</td>\n",
       "      <td>Master</td>\n",
       "      <td>Engineering</td>\n",
       "      <td>1</td>\n",
       "      <td>Changi</td>\n",
       "      <td>Normal</td>\n",
       "      <td>26</td>\n",
       "      <td>1969.0</td>\n",
       "      <td>6</td>\n",
       "      <td>53.0</td>\n",
       "      <td>2.166667</td>\n",
       "    </tr>\n",
       "    <tr>\n",
       "      <th>98</th>\n",
       "      <td>b76eb2fc-710c-425f-9960-116d86db0b96</td>\n",
       "      <td>0</td>\n",
       "      <td>58.0</td>\n",
       "      <td>Male</td>\n",
       "      <td>13872</td>\n",
       "      <td>42</td>\n",
       "      <td>Master</td>\n",
       "      <td>Information Technology</td>\n",
       "      <td>4</td>\n",
       "      <td>Changi</td>\n",
       "      <td>Bronze</td>\n",
       "      <td>38</td>\n",
       "      <td>1964.0</td>\n",
       "      <td>1</td>\n",
       "      <td>58.0</td>\n",
       "      <td>3.166667</td>\n",
       "    </tr>\n",
       "    <tr>\n",
       "      <th>119</th>\n",
       "      <td>bca4f43a-80ec-4092-b2ac-b69da2a4477f</td>\n",
       "      <td>0</td>\n",
       "      <td>43.0</td>\n",
       "      <td>Male</td>\n",
       "      <td>16959</td>\n",
       "      <td>48</td>\n",
       "      <td>Diploma</td>\n",
       "      <td>Engineering</td>\n",
       "      <td>3</td>\n",
       "      <td>Changi</td>\n",
       "      <td>Silver</td>\n",
       "      <td>26</td>\n",
       "      <td>1979.0</td>\n",
       "      <td>7</td>\n",
       "      <td>43.0</td>\n",
       "      <td>2.166667</td>\n",
       "    </tr>\n",
       "    <tr>\n",
       "      <th>126</th>\n",
       "      <td>22eca069-e2ac-46ab-9c0c-11fd33bfb919</td>\n",
       "      <td>1</td>\n",
       "      <td>58.0</td>\n",
       "      <td>Female</td>\n",
       "      <td>10312</td>\n",
       "      <td>50</td>\n",
       "      <td>Master</td>\n",
       "      <td>Information Technology</td>\n",
       "      <td>4</td>\n",
       "      <td>Thomson</td>\n",
       "      <td>Bronze</td>\n",
       "      <td>41</td>\n",
       "      <td>1964.0</td>\n",
       "      <td>4</td>\n",
       "      <td>58.0</td>\n",
       "      <td>3.416667</td>\n",
       "    </tr>\n",
       "    <tr>\n",
       "      <th>178</th>\n",
       "      <td>b2618709-894f-49a1-a7f6-f2c74269147d</td>\n",
       "      <td>0</td>\n",
       "      <td>46.0</td>\n",
       "      <td>Female</td>\n",
       "      <td>10453</td>\n",
       "      <td>12</td>\n",
       "      <td>Diploma</td>\n",
       "      <td>Business</td>\n",
       "      <td>2</td>\n",
       "      <td>Changi</td>\n",
       "      <td>Normal</td>\n",
       "      <td>25</td>\n",
       "      <td>1976.0</td>\n",
       "      <td>4</td>\n",
       "      <td>46.0</td>\n",
       "      <td>2.083333</td>\n",
       "    </tr>\n",
       "    <tr>\n",
       "      <th>...</th>\n",
       "      <td>...</td>\n",
       "      <td>...</td>\n",
       "      <td>...</td>\n",
       "      <td>...</td>\n",
       "      <td>...</td>\n",
       "      <td>...</td>\n",
       "      <td>...</td>\n",
       "      <td>...</td>\n",
       "      <td>...</td>\n",
       "      <td>...</td>\n",
       "      <td>...</td>\n",
       "      <td>...</td>\n",
       "      <td>...</td>\n",
       "      <td>...</td>\n",
       "      <td>...</td>\n",
       "      <td>...</td>\n",
       "    </tr>\n",
       "    <tr>\n",
       "      <th>2391</th>\n",
       "      <td>3015e480-9d4f-4d7e-967a-f67306ae01d0</td>\n",
       "      <td>0</td>\n",
       "      <td>44.0</td>\n",
       "      <td>Male</td>\n",
       "      <td>14942</td>\n",
       "      <td>53</td>\n",
       "      <td>Bachelor</td>\n",
       "      <td>Engineering</td>\n",
       "      <td>3</td>\n",
       "      <td>Thomson</td>\n",
       "      <td>Normal</td>\n",
       "      <td>44</td>\n",
       "      <td>1978.0</td>\n",
       "      <td>5</td>\n",
       "      <td>44.0</td>\n",
       "      <td>3.666667</td>\n",
       "    </tr>\n",
       "    <tr>\n",
       "      <th>2405</th>\n",
       "      <td>bee68458-2c14-4a1d-b4e9-b39f077ea60c</td>\n",
       "      <td>0</td>\n",
       "      <td>43.0</td>\n",
       "      <td>Female</td>\n",
       "      <td>7242</td>\n",
       "      <td>24</td>\n",
       "      <td>Diploma</td>\n",
       "      <td>Information Technology</td>\n",
       "      <td>4</td>\n",
       "      <td>Thomson</td>\n",
       "      <td>Gold</td>\n",
       "      <td>27</td>\n",
       "      <td>1979.0</td>\n",
       "      <td>3</td>\n",
       "      <td>43.0</td>\n",
       "      <td>2.250000</td>\n",
       "    </tr>\n",
       "    <tr>\n",
       "      <th>2419</th>\n",
       "      <td>a8a786bc-ee9b-4bc8-b3f8-c1e2daf3b61a</td>\n",
       "      <td>0</td>\n",
       "      <td>47.0</td>\n",
       "      <td>Male</td>\n",
       "      <td>6505</td>\n",
       "      <td>23</td>\n",
       "      <td>Ph.D</td>\n",
       "      <td>Information Technology</td>\n",
       "      <td>2</td>\n",
       "      <td>Changi</td>\n",
       "      <td>Normal</td>\n",
       "      <td>50</td>\n",
       "      <td>1975.0</td>\n",
       "      <td>6</td>\n",
       "      <td>47.0</td>\n",
       "      <td>4.166667</td>\n",
       "    </tr>\n",
       "    <tr>\n",
       "      <th>2428</th>\n",
       "      <td>fcd95a4c-1a75-4488-8d75-69c264345230</td>\n",
       "      <td>0</td>\n",
       "      <td>44.0</td>\n",
       "      <td>Female</td>\n",
       "      <td>1133</td>\n",
       "      <td>31</td>\n",
       "      <td>Ph.D</td>\n",
       "      <td>Information Technology</td>\n",
       "      <td>3</td>\n",
       "      <td>Thomson</td>\n",
       "      <td>Normal</td>\n",
       "      <td>43</td>\n",
       "      <td>1978.0</td>\n",
       "      <td>3</td>\n",
       "      <td>44.0</td>\n",
       "      <td>3.583333</td>\n",
       "    </tr>\n",
       "    <tr>\n",
       "      <th>2450</th>\n",
       "      <td>e4b1687f-2e4d-4b73-9ab6-4061d2334854</td>\n",
       "      <td>0</td>\n",
       "      <td>37.0</td>\n",
       "      <td>Male</td>\n",
       "      <td>7914</td>\n",
       "      <td>40</td>\n",
       "      <td>Diploma</td>\n",
       "      <td>Business</td>\n",
       "      <td>1</td>\n",
       "      <td>Changi</td>\n",
       "      <td>Normal</td>\n",
       "      <td>32</td>\n",
       "      <td>1985.0</td>\n",
       "      <td>3</td>\n",
       "      <td>37.0</td>\n",
       "      <td>2.666667</td>\n",
       "    </tr>\n",
       "  </tbody>\n",
       "</table>\n",
       "<p>163 rows × 16 columns</p>\n",
       "</div>"
      ],
      "text/plain": [
       "                          Member Unique ID  Attrition   Age  Gender  \\\n",
       "18    7dc2b0af-0f59-47b8-990f-2f19b6c13db6          0  53.0  Female   \n",
       "98    b76eb2fc-710c-425f-9960-116d86db0b96          0  58.0    Male   \n",
       "119   bca4f43a-80ec-4092-b2ac-b69da2a4477f          0  43.0    Male   \n",
       "126   22eca069-e2ac-46ab-9c0c-11fd33bfb919          1  58.0  Female   \n",
       "178   b2618709-894f-49a1-a7f6-f2c74269147d          0  46.0  Female   \n",
       "...                                    ...        ...   ...     ...   \n",
       "2391  3015e480-9d4f-4d7e-967a-f67306ae01d0          0  44.0    Male   \n",
       "2405  bee68458-2c14-4a1d-b4e9-b39f077ea60c          0  43.0  Female   \n",
       "2419  a8a786bc-ee9b-4bc8-b3f8-c1e2daf3b61a          0  47.0    Male   \n",
       "2428  fcd95a4c-1a75-4488-8d75-69c264345230          0  44.0  Female   \n",
       "2450  e4b1687f-2e4d-4b73-9ab6-4061d2334854          0  37.0    Male   \n",
       "\n",
       "      Monthly Income  Travel Time Qualification             Work Domain  \\\n",
       "18             15427           20        Master             Engineering   \n",
       "98             13872           42        Master  Information Technology   \n",
       "119            16959           48       Diploma             Engineering   \n",
       "126            10312           50        Master  Information Technology   \n",
       "178            10453           12       Diploma                Business   \n",
       "...              ...          ...           ...                     ...   \n",
       "2391           14942           53      Bachelor             Engineering   \n",
       "2405            7242           24       Diploma  Information Technology   \n",
       "2419            6505           23          Ph.D  Information Technology   \n",
       "2428            1133           31          Ph.D  Information Technology   \n",
       "2450            7914           40       Diploma                Business   \n",
       "\n",
       "      Usage Rate   Branch Membership  Months  Birth Year  Usage Time  \\\n",
       "18             1   Changi     Normal      26      1969.0           6   \n",
       "98             4   Changi     Bronze      38      1964.0           1   \n",
       "119            3   Changi     Silver      26      1979.0           7   \n",
       "126            4  Thomson     Bronze      41      1964.0           4   \n",
       "178            2   Changi     Normal      25      1976.0           4   \n",
       "...          ...      ...        ...     ...         ...         ...   \n",
       "2391           3  Thomson     Normal      44      1978.0           5   \n",
       "2405           4  Thomson       Gold      27      1979.0           3   \n",
       "2419           2   Changi     Normal      50      1975.0           6   \n",
       "2428           3  Thomson     Normal      43      1978.0           3   \n",
       "2450           1   Changi     Normal      32      1985.0           3   \n",
       "\n",
       "      Client Age  Check Assumption  \n",
       "18          53.0          2.166667  \n",
       "98          58.0          3.166667  \n",
       "119         43.0          2.166667  \n",
       "126         58.0          3.416667  \n",
       "178         46.0          2.083333  \n",
       "...          ...               ...  \n",
       "2391        44.0          3.666667  \n",
       "2405        43.0          2.250000  \n",
       "2419        47.0          4.166667  \n",
       "2428        44.0          3.583333  \n",
       "2450        37.0          2.666667  \n",
       "\n",
       "[163 rows x 16 columns]"
      ]
     },
     "execution_count": 1191,
     "metadata": {},
     "output_type": "execute_result"
    }
   ],
   "source": [
    "df[df['Check Assumption'] > 2]"
   ]
  },
  {
   "cell_type": "markdown",
   "metadata": {},
   "source": [
    "This is interesting. So it seems that there might be some mistakes made in the datapoints for either Age, Months and/or Birth Year. We will have to investigate this in the next section. However, first we will deal with the missing values for the Age and Birth Year features. \n",
    "\n",
    "We note that when using the equation above (Age + Months = Client Age), we were at most off by 4.4167 years with the mean being 0.88. Based on this, I conclude that using this method to fill in the missing values is likely to result in a Age and Birth Year closer to the true value than using a central tendancy method such as just filling missing values using mean/median. Therefore, we will fill in missing values using the equation above. "
   ]
  },
  {
   "cell_type": "code",
   "execution_count": 1192,
   "metadata": {},
   "outputs": [
    {
     "data": {
      "text/plain": [
       "False    2470\n",
       "Name: Age, dtype: int64"
      ]
     },
     "execution_count": 1192,
     "metadata": {},
     "output_type": "execute_result"
    }
   ],
   "source": [
    "def fillInMissingAgeValues(join_age: float, current_age:float, months_member: int):\n",
    "    if isnan(join_age):\n",
    "        return np.round(current_age - (months_member/12))\n",
    "    else:\n",
    "        return join_age\n",
    "df['Age'] = df.apply(lambda x: fillInMissingAgeValues(x['Age'], x['Client Age'], x['Months']), axis = 1)\n",
    "df['Age'].isna().value_counts()"
   ]
  },
  {
   "cell_type": "code",
   "execution_count": 1193,
   "metadata": {},
   "outputs": [
    {
     "name": "stdout",
     "output_type": "stream",
     "text": [
      "False    2470\n",
      "Name: Client Age, dtype: int64\n"
     ]
    },
    {
     "data": {
      "text/plain": [
       "False    2470\n",
       "Name: Birth Year, dtype: int64"
      ]
     },
     "execution_count": 1193,
     "metadata": {},
     "output_type": "execute_result"
    }
   ],
   "source": [
    "def fillInMissingBirthYearValues(join_age:float, birth_year: int, months_member:int):\n",
    "    if isnan(birth_year):\n",
    "        return 2022 - np.round(join_age + (months_member/12))\n",
    "    else:\n",
    "        return birth_year\n",
    "df['Birth Year'] = df.apply(lambda x: fillInMissingBirthYearValues(x['Age'], x['Birth Year'], x['Months']), axis = 1)\n",
    "df['Client Age'] = df['Birth Year'].apply(convertYearToAge) #to fill in all the previously NaN values in Client Age\n",
    "print(df['Client Age'].isna().value_counts())\n",
    "df['Birth Year'].isna().value_counts()"
   ]
  },
  {
   "cell_type": "markdown",
   "metadata": {},
   "source": [
    "#### Possible mistakes made with Age, Months or Birth Year features"
   ]
  },
  {
   "cell_type": "markdown",
   "metadata": {},
   "source": [
    "After examining some rows, I have realised that there is likely to be some errors in the recording of the Age/Months/Birth Year features based on my understanding of them. Lets take a look at some examples:"
   ]
  },
  {
   "cell_type": "code",
   "execution_count": 1194,
   "metadata": {},
   "outputs": [
    {
     "data": {
      "text/html": [
       "<div>\n",
       "<style scoped>\n",
       "    .dataframe tbody tr th:only-of-type {\n",
       "        vertical-align: middle;\n",
       "    }\n",
       "\n",
       "    .dataframe tbody tr th {\n",
       "        vertical-align: top;\n",
       "    }\n",
       "\n",
       "    .dataframe thead th {\n",
       "        text-align: right;\n",
       "    }\n",
       "</style>\n",
       "<table border=\"1\" class=\"dataframe\">\n",
       "  <thead>\n",
       "    <tr style=\"text-align: right;\">\n",
       "      <th></th>\n",
       "      <th>Age</th>\n",
       "      <th>Months</th>\n",
       "      <th>Birth Year</th>\n",
       "      <th>Client Age</th>\n",
       "    </tr>\n",
       "  </thead>\n",
       "  <tbody>\n",
       "    <tr>\n",
       "      <th>18</th>\n",
       "      <td>53.0</td>\n",
       "      <td>26</td>\n",
       "      <td>1969.0</td>\n",
       "      <td>53.0</td>\n",
       "    </tr>\n",
       "    <tr>\n",
       "      <th>98</th>\n",
       "      <td>58.0</td>\n",
       "      <td>38</td>\n",
       "      <td>1964.0</td>\n",
       "      <td>58.0</td>\n",
       "    </tr>\n",
       "    <tr>\n",
       "      <th>119</th>\n",
       "      <td>43.0</td>\n",
       "      <td>26</td>\n",
       "      <td>1979.0</td>\n",
       "      <td>43.0</td>\n",
       "    </tr>\n",
       "    <tr>\n",
       "      <th>126</th>\n",
       "      <td>58.0</td>\n",
       "      <td>41</td>\n",
       "      <td>1964.0</td>\n",
       "      <td>58.0</td>\n",
       "    </tr>\n",
       "    <tr>\n",
       "      <th>178</th>\n",
       "      <td>46.0</td>\n",
       "      <td>25</td>\n",
       "      <td>1976.0</td>\n",
       "      <td>46.0</td>\n",
       "    </tr>\n",
       "    <tr>\n",
       "      <th>...</th>\n",
       "      <td>...</td>\n",
       "      <td>...</td>\n",
       "      <td>...</td>\n",
       "      <td>...</td>\n",
       "    </tr>\n",
       "    <tr>\n",
       "      <th>2391</th>\n",
       "      <td>44.0</td>\n",
       "      <td>44</td>\n",
       "      <td>1978.0</td>\n",
       "      <td>44.0</td>\n",
       "    </tr>\n",
       "    <tr>\n",
       "      <th>2405</th>\n",
       "      <td>43.0</td>\n",
       "      <td>27</td>\n",
       "      <td>1979.0</td>\n",
       "      <td>43.0</td>\n",
       "    </tr>\n",
       "    <tr>\n",
       "      <th>2419</th>\n",
       "      <td>47.0</td>\n",
       "      <td>50</td>\n",
       "      <td>1975.0</td>\n",
       "      <td>47.0</td>\n",
       "    </tr>\n",
       "    <tr>\n",
       "      <th>2428</th>\n",
       "      <td>44.0</td>\n",
       "      <td>43</td>\n",
       "      <td>1978.0</td>\n",
       "      <td>44.0</td>\n",
       "    </tr>\n",
       "    <tr>\n",
       "      <th>2450</th>\n",
       "      <td>37.0</td>\n",
       "      <td>32</td>\n",
       "      <td>1985.0</td>\n",
       "      <td>37.0</td>\n",
       "    </tr>\n",
       "  </tbody>\n",
       "</table>\n",
       "<p>163 rows × 4 columns</p>\n",
       "</div>"
      ],
      "text/plain": [
       "       Age  Months  Birth Year  Client Age\n",
       "18    53.0      26      1969.0        53.0\n",
       "98    58.0      38      1964.0        58.0\n",
       "119   43.0      26      1979.0        43.0\n",
       "126   58.0      41      1964.0        58.0\n",
       "178   46.0      25      1976.0        46.0\n",
       "...    ...     ...         ...         ...\n",
       "2391  44.0      44      1978.0        44.0\n",
       "2405  43.0      27      1979.0        43.0\n",
       "2419  47.0      50      1975.0        47.0\n",
       "2428  44.0      43      1978.0        44.0\n",
       "2450  37.0      32      1985.0        37.0\n",
       "\n",
       "[163 rows x 4 columns]"
      ]
     },
     "execution_count": 1194,
     "metadata": {},
     "output_type": "execute_result"
    }
   ],
   "source": [
    "df[['Age', 'Months', 'Birth Year', 'Client Age']][df['Check Assumption'] > 2]"
   ]
  },
  {
   "cell_type": "markdown",
   "metadata": {},
   "source": [
    "If we take a look at the first row (index 18), here we have a member that signed up as a member at age 53, has already been a member for 26 months (2 years and 2 months) and has a birth year of 1969 which implies the client is 53 years old this year(2022). All 3 features in this row cannot be true at the same time. Therefore, an incorrect entry was made in at least one of these feature entries. \n",
    "\n",
    "In my opinion, the most likely feature to be incorrect is Age as Birth Year would have been taken from the Member's identification provided when signing up for membership and Months would have just been gotten directly from the Country Club's system. Therefore, I will assume that in cases such as above, the features Birth Year and Months are correct and adjust the Age feature accordingly so all the numbers tally. "
   ]
  },
  {
   "cell_type": "markdown",
   "metadata": {},
   "source": [
    "To simplify the process, I am going to assume that all member's birthdays have already passed so when we do calculated their current age (Client Age feature) it is accurate. I am going to change adjust the Ages feature where the Check Assumption feature created which calculates the difference between (Age + Months) and Client Age is greater than or equal to 1. This is because, in those situations we can be 100% sure that there is an error as the numbers do not add up. "
   ]
  },
  {
   "cell_type": "code",
   "execution_count": 1195,
   "metadata": {},
   "outputs": [],
   "source": [
    "def correctAges(check_assumption : float, current_age: float, member_months: int, join_age: float):\n",
    "    if check_assumption >= 1:\n",
    "        return np.round(current_age - (member_months/12))\n",
    "    else:\n",
    "        return join_age"
   ]
  },
  {
   "cell_type": "code",
   "execution_count": 1196,
   "metadata": {},
   "outputs": [
    {
     "data": {
      "text/plain": [
       "0"
      ]
     },
     "execution_count": 1196,
     "metadata": {},
     "output_type": "execute_result"
    }
   ],
   "source": [
    "df['Age'] = df.apply(lambda x: correctAges(x['Check Assumption'], x['Client Age'], x['Months'], x['Age']), axis = 1)\n",
    "df['Check Assumption'] = df.apply(lambda x: checkAssumption(x['Age'], x['Client Age'], x['Months']), axis = 1)\n",
    "df['Check Assumption'][(df['Check Assumption'] >=1) | (df['Check Assumption'] <=-1)].count() "
   ]
  },
  {
   "cell_type": "markdown",
   "metadata": {},
   "source": [
    "Lets now take a look at the distribution of Age after our changes and make sure there are no issues. "
   ]
  },
  {
   "cell_type": "code",
   "execution_count": 1197,
   "metadata": {},
   "outputs": [
    {
     "data": {
      "text/plain": [
       "count    2470.000000\n",
       "mean       40.331984\n",
       "std        10.360449\n",
       "min        12.000000\n",
       "25%        32.000000\n",
       "50%        40.000000\n",
       "75%        48.000000\n",
       "max        69.000000\n",
       "Name: Age, dtype: float64"
      ]
     },
     "execution_count": 1197,
     "metadata": {},
     "output_type": "execute_result"
    }
   ],
   "source": [
    "df['Age'].describe()"
   ]
  },
  {
   "cell_type": "markdown",
   "metadata": {},
   "source": [
    "This is interesting. The youngest member joined at the age of 12. This seems a bit young to be a member of a country club. \n",
    "\n",
    "After a quick google, the youngest age that a person could be a member of a country club is 18 years old. Lets take a look at all the members who joined at under the age of 18."
   ]
  },
  {
   "cell_type": "code",
   "execution_count": 1198,
   "metadata": {},
   "outputs": [
    {
     "data": {
      "text/html": [
       "<div>\n",
       "<style scoped>\n",
       "    .dataframe tbody tr th:only-of-type {\n",
       "        vertical-align: middle;\n",
       "    }\n",
       "\n",
       "    .dataframe tbody tr th {\n",
       "        vertical-align: top;\n",
       "    }\n",
       "\n",
       "    .dataframe thead th {\n",
       "        text-align: right;\n",
       "    }\n",
       "</style>\n",
       "<table border=\"1\" class=\"dataframe\">\n",
       "  <thead>\n",
       "    <tr style=\"text-align: right;\">\n",
       "      <th></th>\n",
       "      <th>Member Unique ID</th>\n",
       "      <th>Attrition</th>\n",
       "      <th>Age</th>\n",
       "      <th>Gender</th>\n",
       "      <th>Monthly Income</th>\n",
       "      <th>Travel Time</th>\n",
       "      <th>Qualification</th>\n",
       "      <th>Work Domain</th>\n",
       "      <th>Usage Rate</th>\n",
       "      <th>Branch</th>\n",
       "      <th>Membership</th>\n",
       "      <th>Months</th>\n",
       "      <th>Birth Year</th>\n",
       "      <th>Usage Time</th>\n",
       "      <th>Client Age</th>\n",
       "      <th>Check Assumption</th>\n",
       "    </tr>\n",
       "  </thead>\n",
       "  <tbody>\n",
       "    <tr>\n",
       "      <th>1833</th>\n",
       "      <td>978342bd-10ce-4c9a-b243-dd23701b5a20</td>\n",
       "      <td>0</td>\n",
       "      <td>12.0</td>\n",
       "      <td>Female</td>\n",
       "      <td>10058</td>\n",
       "      <td>12</td>\n",
       "      <td>Master</td>\n",
       "      <td>Engineering</td>\n",
       "      <td>2</td>\n",
       "      <td>Thomson</td>\n",
       "      <td>Normal</td>\n",
       "      <td>14</td>\n",
       "      <td>2009.0</td>\n",
       "      <td>5</td>\n",
       "      <td>13.0</td>\n",
       "      <td>0.166667</td>\n",
       "    </tr>\n",
       "    <tr>\n",
       "      <th>1992</th>\n",
       "      <td>21a01ceb-82e4-46ae-b4cd-942ea393c456</td>\n",
       "      <td>0</td>\n",
       "      <td>17.0</td>\n",
       "      <td>Male</td>\n",
       "      <td>4012</td>\n",
       "      <td>13</td>\n",
       "      <td>Diploma</td>\n",
       "      <td>Business</td>\n",
       "      <td>1</td>\n",
       "      <td>Thomson</td>\n",
       "      <td>Normal</td>\n",
       "      <td>10</td>\n",
       "      <td>2004.0</td>\n",
       "      <td>14</td>\n",
       "      <td>18.0</td>\n",
       "      <td>-0.166667</td>\n",
       "    </tr>\n",
       "    <tr>\n",
       "      <th>2215</th>\n",
       "      <td>d47a3d50-ca65-4765-9508-3352a7b437c4</td>\n",
       "      <td>0</td>\n",
       "      <td>15.0</td>\n",
       "      <td>Female</td>\n",
       "      <td>3920</td>\n",
       "      <td>42</td>\n",
       "      <td>Master</td>\n",
       "      <td>Business</td>\n",
       "      <td>2</td>\n",
       "      <td>Thomson</td>\n",
       "      <td>Normal</td>\n",
       "      <td>7</td>\n",
       "      <td>2006.0</td>\n",
       "      <td>2</td>\n",
       "      <td>16.0</td>\n",
       "      <td>-0.416667</td>\n",
       "    </tr>\n",
       "  </tbody>\n",
       "</table>\n",
       "</div>"
      ],
      "text/plain": [
       "                          Member Unique ID  Attrition   Age  Gender  \\\n",
       "1833  978342bd-10ce-4c9a-b243-dd23701b5a20          0  12.0  Female   \n",
       "1992  21a01ceb-82e4-46ae-b4cd-942ea393c456          0  17.0    Male   \n",
       "2215  d47a3d50-ca65-4765-9508-3352a7b437c4          0  15.0  Female   \n",
       "\n",
       "      Monthly Income  Travel Time Qualification  Work Domain  Usage Rate  \\\n",
       "1833           10058           12        Master  Engineering           2   \n",
       "1992            4012           13       Diploma     Business           1   \n",
       "2215            3920           42        Master     Business           2   \n",
       "\n",
       "       Branch Membership  Months  Birth Year  Usage Time  Client Age  \\\n",
       "1833  Thomson     Normal      14      2009.0           5        13.0   \n",
       "1992  Thomson     Normal      10      2004.0          14        18.0   \n",
       "2215  Thomson     Normal       7      2006.0           2        16.0   \n",
       "\n",
       "      Check Assumption  \n",
       "1833          0.166667  \n",
       "1992         -0.166667  \n",
       "2215         -0.416667  "
      ]
     },
     "execution_count": 1198,
     "metadata": {},
     "output_type": "execute_result"
    }
   ],
   "source": [
    "df[df['Age'] < 18]"
   ]
  },
  {
   "cell_type": "markdown",
   "metadata": {},
   "source": [
    "So it seems that this country club has a lot of extremely smart youngsters. With them having a 12 year old female with a Masters degree and earning $10000 per month, a 15 year old female with a Master's degree. I am going to treat the 2 female members as corurpt data and just delete them. This is because, the age, income and qualification do not sense. \n",
    "\n",
    "As for the 17 year old male member, I think considering the Birth Year is 2004, and the Months is only 10, I will just assume that the Age was incorrectly entered and change it to 18 (the minimum age to be a member)."
   ]
  },
  {
   "cell_type": "code",
   "execution_count": 1199,
   "metadata": {},
   "outputs": [
    {
     "data": {
      "text/html": [
       "<div>\n",
       "<style scoped>\n",
       "    .dataframe tbody tr th:only-of-type {\n",
       "        vertical-align: middle;\n",
       "    }\n",
       "\n",
       "    .dataframe tbody tr th {\n",
       "        vertical-align: top;\n",
       "    }\n",
       "\n",
       "    .dataframe thead th {\n",
       "        text-align: right;\n",
       "    }\n",
       "</style>\n",
       "<table border=\"1\" class=\"dataframe\">\n",
       "  <thead>\n",
       "    <tr style=\"text-align: right;\">\n",
       "      <th></th>\n",
       "      <th>Member Unique ID</th>\n",
       "      <th>Attrition</th>\n",
       "      <th>Age</th>\n",
       "      <th>Gender</th>\n",
       "      <th>Monthly Income</th>\n",
       "      <th>Travel Time</th>\n",
       "      <th>Qualification</th>\n",
       "      <th>Work Domain</th>\n",
       "      <th>Usage Rate</th>\n",
       "      <th>Branch</th>\n",
       "      <th>Membership</th>\n",
       "      <th>Months</th>\n",
       "      <th>Birth Year</th>\n",
       "      <th>Usage Time</th>\n",
       "      <th>Client Age</th>\n",
       "      <th>Check Assumption</th>\n",
       "    </tr>\n",
       "  </thead>\n",
       "  <tbody>\n",
       "  </tbody>\n",
       "</table>\n",
       "</div>"
      ],
      "text/plain": [
       "Empty DataFrame\n",
       "Columns: [Member Unique ID, Attrition, Age, Gender, Monthly Income, Travel Time, Qualification, Work Domain, Usage Rate, Branch, Membership, Months, Birth Year, Usage Time, Client Age, Check Assumption]\n",
       "Index: []"
      ]
     },
     "execution_count": 1199,
     "metadata": {},
     "output_type": "execute_result"
    }
   ],
   "source": [
    "df.drop(index = [1833, 2215], inplace=True)\n",
    "df.at[1992, 'Age'] = 18.0\n",
    "df[df['Age'] < 18]"
   ]
  },
  {
   "cell_type": "markdown",
   "metadata": {},
   "source": [
    "Before we start on the univariate analysis of each feature, we will drop the created column Check Assumption and we will also drop the provided feature Birth Year as all the information is already in Client Age and Client Age is a much more useful form of it. We will also drop the Member Unique ID feature as I do not think it is useful for helping to predict attrition. "
   ]
  },
  {
   "cell_type": "code",
   "execution_count": 1200,
   "metadata": {},
   "outputs": [],
   "source": [
    "df.drop('Check Assumption', inplace=True, axis = 1)\n",
    "df.drop('Birth Year', inplace=True, axis=1)\n",
    "df.drop('Member Unique ID', inplace=True, axis = 1)"
   ]
  },
  {
   "cell_type": "markdown",
   "metadata": {},
   "source": [
    "Now that we have finished with the data cleaning we can move onto the univariate analysis. "
   ]
  },
  {
   "cell_type": "markdown",
   "metadata": {},
   "source": [
    "### Univariate Analysis"
   ]
  },
  {
   "cell_type": "markdown",
   "metadata": {},
   "source": [
    "Lets start by restating all the various features:"
   ]
  },
  {
   "cell_type": "markdown",
   "metadata": {},
   "source": [
    "Lets start by creating functions that will output the graphs we want for doing basic univariate analysis on a numerical and categorial features."
   ]
  },
  {
   "cell_type": "code",
   "execution_count": 1201,
   "metadata": {},
   "outputs": [
    {
     "data": {
      "text/plain": [
       "Index(['Attrition', 'Age', 'Gender', 'Monthly Income', 'Travel Time',\n",
       "       'Qualification', 'Work Domain', 'Usage Rate', 'Branch', 'Membership',\n",
       "       'Months', 'Usage Time', 'Client Age'],\n",
       "      dtype='object')"
      ]
     },
     "execution_count": 1201,
     "metadata": {},
     "output_type": "execute_result"
    }
   ],
   "source": [
    "df.columns"
   ]
  },
  {
   "cell_type": "markdown",
   "metadata": {},
   "source": [
    "#### Attrition"
   ]
  },
  {
   "cell_type": "code",
   "execution_count": 1241,
   "metadata": {},
   "outputs": [
    {
     "data": {
      "text/plain": [
       "<AxesSubplot: xlabel='Attrition', ylabel='count'>"
      ]
     },
     "execution_count": 1241,
     "metadata": {},
     "output_type": "execute_result"
    },
    {
     "data": {
      "image/png": "[encoded data removed]",
      "text/plain": [
       "<Figure size 640x480 with 1 Axes>"
      ]
     },
     "metadata": {},
     "output_type": "display_data"
    }
   ],
   "source": [
    "sns.countplot(x = df['Attrition'])"
   ]
  },
  {
   "cell_type": "code",
   "execution_count": 1243,
   "metadata": {},
   "outputs": [
    {
     "data": {
      "text/plain": [
       "([<matplotlib.patches.Wedge at 0x140517970>,\n",
       "  <matplotlib.patches.Wedge at 0x14054a040>],\n",
       " [Text(-0.9472151304674981, 0.5592705039723095, '0'),\n",
       "  Text(0.9472151304674982, -0.5592705039723092, '1')],\n",
       " [Text(-0.5166627984368171, 0.3050566385303506, '83.0%'),\n",
       "  Text(0.5166627984368171, -0.3050566385303504, '17.0%')])"
      ]
     },
     "execution_count": 1243,
     "metadata": {},
     "output_type": "execute_result"
    },
    {
     "data": {
      "image/png": "[encoded data removed]",
      "text/plain": [
       "<Figure size 640x480 with 1 Axes>"
      ]
     },
     "metadata": {},
     "output_type": "display_data"
    }
   ],
   "source": [
    "plt.pie(df['Attrition'].value_counts()[[0,1]], autopct='%1.1f%%', labels=['0', '1'])\n"
   ]
  },
  {
   "cell_type": "markdown",
   "metadata": {},
   "source": [
    "The majority of the Members of this dataset Stayed (0) at 83% and only 17% of the Members from this dataset left (1) the country club. After seeing these percentages, I can understand why the country club would be concerned about Member Attrition. Losing 17% of your memberbase is a lot. "
   ]
  },
  {
   "cell_type": "markdown",
   "metadata": {},
   "source": [
    "#### Age"
   ]
  },
  {
   "cell_type": "code",
   "execution_count": 1202,
   "metadata": {},
   "outputs": [
    {
     "data": {
      "text/plain": [
       "count    2468.000000\n",
       "mean       40.354133\n",
       "std        10.335446\n",
       "min        18.000000\n",
       "25%        32.000000\n",
       "50%        40.000000\n",
       "75%        48.000000\n",
       "max        69.000000\n",
       "Name: Age, dtype: float64"
      ]
     },
     "execution_count": 1202,
     "metadata": {},
     "output_type": "execute_result"
    }
   ],
   "source": [
    "df['Age'].describe()"
   ]
  },
  {
   "cell_type": "code",
   "execution_count": 1203,
   "metadata": {},
   "outputs": [
    {
     "data": {
      "text/plain": [
       "<seaborn.axisgrid.FacetGrid at 0x13ecbddf0>"
      ]
     },
     "execution_count": 1203,
     "metadata": {},
     "output_type": "execute_result"
    },
    {
     "data": {
      "image/png": "[encoded data removed]",
      "text/plain": [
       "<Figure size 500x500 with 1 Axes>"
      ]
     },
     "metadata": {},
     "output_type": "display_data"
    }
   ],
   "source": [
    "sns.displot(df['Age'], kde=True).set(title = 'Distribution Plot of Age')"
   ]
  },
  {
   "cell_type": "markdown",
   "metadata": {},
   "source": [
    "This feature seems to be approximately normally distributed with a slight positive skew. We can also see that the majority of datapoints fall within the 35-37.5 bucket. "
   ]
  },
  {
   "cell_type": "code",
   "execution_count": 1204,
   "metadata": {},
   "outputs": [
    {
     "data": {
      "text/plain": [
       "[Text(0.5, 1.0, 'BoxPlot of Age')]"
      ]
     },
     "execution_count": 1204,
     "metadata": {},
     "output_type": "execute_result"
    },
    {
     "data": {
      "image/png": "[encoded data removed]",
      "text/plain": [
       "<Figure size 640x480 with 1 Axes>"
      ]
     },
     "metadata": {},
     "output_type": "display_data"
    }
   ],
   "source": [
    "sns.boxplot(df['Age']).set(title='BoxPlot of Age')"
   ]
  },
  {
   "cell_type": "markdown",
   "metadata": {},
   "source": [
    "Again we can see the good distribution of this feature with it having no outliers."
   ]
  },
  {
   "cell_type": "code",
   "execution_count": 1256,
   "metadata": {},
   "outputs": [
    {
     "data": {
      "text/plain": [
       "<seaborn.axisgrid.FacetGrid at 0x140c54df0>"
      ]
     },
     "execution_count": 1256,
     "metadata": {},
     "output_type": "execute_result"
    },
    {
     "data": {
      "image/png": "[encoded data removed]",
      "text/plain": [
       "<Figure size 500x500 with 1 Axes>"
      ]
     },
     "metadata": {},
     "output_type": "display_data"
    }
   ],
   "source": [
    "sns.catplot(data=df, x= 'Attrition', y='Age')"
   ]
  },
  {
   "cell_type": "markdown",
   "metadata": {},
   "source": []
  },
  {
   "cell_type": "markdown",
   "metadata": {},
   "source": [
    "#### Gender"
   ]
  },
  {
   "cell_type": "code",
   "execution_count": 1244,
   "metadata": {},
   "outputs": [
    {
     "data": {
      "text/plain": [
       "<AxesSubplot: xlabel='Gender', ylabel='count'>"
      ]
     },
     "execution_count": 1244,
     "metadata": {},
     "output_type": "execute_result"
    },
    {
     "data": {
      "image/png": "[encoded data removed]",
      "text/plain": [
       "<Figure size 640x480 with 1 Axes>"
      ]
     },
     "metadata": {},
     "output_type": "display_data"
    }
   ],
   "source": [
    "sns.countplot(x = df['Gender'])"
   ]
  },
  {
   "cell_type": "code",
   "execution_count": 1245,
   "metadata": {},
   "outputs": [
    {
     "data": {
      "text/plain": [
       "([<matplotlib.patches.Wedge at 0x1405eb2e0>,\n",
       "  <matplotlib.patches.Wedge at 0x1405eb910>],\n",
       " [Text(-0.31210354361861437, 1.0547944719520974, 'Male'),\n",
       "  Text(0.3121034448616274, -1.0547945011733353, 'Female')],\n",
       " [Text(-0.1702382965192442, 0.5753424392465984, '59.2%'),\n",
       "  Text(0.17023824265179674, -0.5753424551854556, '40.8%')])"
      ]
     },
     "execution_count": 1245,
     "metadata": {},
     "output_type": "execute_result"
    },
    {
     "data": {
      "image/png": "[encoded data removed]",
      "text/plain": [
       "<Figure size 640x480 with 1 Axes>"
      ]
     },
     "metadata": {},
     "output_type": "display_data"
    }
   ],
   "source": [
    "plt.pie(df['Gender'].value_counts(), autopct='%1.1f%%', labels=['Male', 'Female'])\n"
   ]
  },
  {
   "cell_type": "markdown",
   "metadata": {},
   "source": [
    "So 59.1% of the members of this dataset are Male and 40.9% are female. Lets see if there exists any obvious relationship between the Gender of the member and the Attrition. "
   ]
  },
  {
   "cell_type": "code",
   "execution_count": 1210,
   "metadata": {},
   "outputs": [
    {
     "data": {
      "text/plain": [
       "Text(0.5, 1.0, 'Female')"
      ]
     },
     "execution_count": 1210,
     "metadata": {},
     "output_type": "execute_result"
    },
    {
     "data": {
      "image/png": "[encoded data removed]",
      "text/plain": [
       "<Figure size 1000x500 with 2 Axes>"
      ]
     },
     "metadata": {},
     "output_type": "display_data"
    }
   ],
   "source": [
    "labels = [0, 1]\n",
    "labels2 = ['No', 'Yes']\n",
    "fig = plt.figure(figsize = (10,5))\n",
    "fig.add_subplot(1,2,1)\n",
    "pie_jan = plt.pie(df[df['Gender'] == 'Male']['Attrition'].value_counts()[labels], autopct='%1.1f%%', labels=labels2)\n",
    "plt.title('Male')\n",
    "fig.add_subplot(1,2,2)\n",
    "pie_jan = plt.pie(df[df['Gender'] == 'Female']['Attrition'].value_counts()[labels], autopct='%1.1f%%', labels=labels2)\n",
    "plt.title('Female')"
   ]
  },
  {
   "cell_type": "markdown",
   "metadata": {},
   "source": [
    "The distribution of members staying (No) and leaving (Yes) does not seem to differ much between the different Genders with 17.7% of the Male Members leaving and 15.9% of the Female Members. Not too big a difference. "
   ]
  },
  {
   "cell_type": "markdown",
   "metadata": {},
   "source": [
    "#### Monthly Income"
   ]
  },
  {
   "cell_type": "code",
   "execution_count": 1218,
   "metadata": {},
   "outputs": [
    {
     "data": {
      "text/plain": [
       "count     2468.000000\n",
       "mean      6837.211912\n",
       "std       4744.160002\n",
       "min        854.000000\n",
       "25%       3347.500000\n",
       "50%       5393.000000\n",
       "75%       8608.250000\n",
       "max      25326.000000\n",
       "Name: Monthly Income, dtype: float64"
      ]
     },
     "execution_count": 1218,
     "metadata": {},
     "output_type": "execute_result"
    }
   ],
   "source": [
    "df['Monthly Income'].describe()"
   ]
  },
  {
   "cell_type": "markdown",
   "metadata": {},
   "source": [
    "As we would expect with income, there is a large difference between the 75th Percentile (8608.25) and the max (25326). This is expected as the majority of people would earn within a particular range with very few outside that range on both sides. "
   ]
  },
  {
   "cell_type": "code",
   "execution_count": 1219,
   "metadata": {},
   "outputs": [
    {
     "data": {
      "text/plain": [
       "<seaborn.axisgrid.FacetGrid at 0x13f179ac0>"
      ]
     },
     "execution_count": 1219,
     "metadata": {},
     "output_type": "execute_result"
    },
    {
     "data": {
      "image/png": "[encoded data removed]",
      "text/plain": [
       "<Figure size 500x500 with 1 Axes>"
      ]
     },
     "metadata": {},
     "output_type": "display_data"
    }
   ],
   "source": [
    "sns.displot(df['Monthly Income'], kde=True)"
   ]
  },
  {
   "cell_type": "markdown",
   "metadata": {},
   "source": [
    "As expected, the monthly income distribution plot is extremely positively skewed. Although we have a slight jump in the members earning between 15000-20000 per month. "
   ]
  },
  {
   "cell_type": "code",
   "execution_count": 1220,
   "metadata": {},
   "outputs": [
    {
     "data": {
      "text/plain": [
       "<AxesSubplot: >"
      ]
     },
     "execution_count": 1220,
     "metadata": {},
     "output_type": "execute_result"
    },
    {
     "data": {
      "image/png": "[encoded data removed]",
      "text/plain": [
       "<Figure size 640x480 with 1 Axes>"
      ]
     },
     "metadata": {},
     "output_type": "display_data"
    }
   ],
   "source": [
    "sns.boxplot(df['Monthly Income'])"
   ]
  },
  {
   "cell_type": "markdown",
   "metadata": {},
   "source": [
    "As expected from the distribution plot being so positively skewed, the boxplot also shows a lot of outliers above the upper whisker. However, this is expected as we saw from the distribution plot. "
   ]
  },
  {
   "cell_type": "code",
   "execution_count": 1257,
   "metadata": {},
   "outputs": [
    {
     "data": {
      "text/plain": [
       "<seaborn.axisgrid.FacetGrid at 0x1385e5730>"
      ]
     },
     "execution_count": 1257,
     "metadata": {},
     "output_type": "execute_result"
    },
    {
     "data": {
      "image/png": "[encoded data removed]",
      "text/plain": [
       "<Figure size 500x500 with 1 Axes>"
      ]
     },
     "metadata": {},
     "output_type": "display_data"
    }
   ],
   "source": [
    "sns.catplot(data=df, x= 'Attrition', y='Monthly Income')"
   ]
  },
  {
   "cell_type": "markdown",
   "metadata": {},
   "source": [
    "This looks interesting. It seems that the members with higher Monthly Income tended to stay (0) as members. This makes me think this might be a useful feature. "
   ]
  },
  {
   "cell_type": "markdown",
   "metadata": {},
   "source": [
    "#### Travel Time"
   ]
  },
  {
   "cell_type": "code",
   "execution_count": 1246,
   "metadata": {},
   "outputs": [
    {
     "data": {
      "text/plain": [
       "<seaborn.axisgrid.FacetGrid at 0x14054aac0>"
      ]
     },
     "execution_count": 1246,
     "metadata": {},
     "output_type": "execute_result"
    },
    {
     "data": {
      "image/png": "[encoded data removed]",
      "text/plain": [
       "<Figure size 500x500 with 1 Axes>"
      ]
     },
     "metadata": {},
     "output_type": "display_data"
    }
   ],
   "source": [
    "sns.displot(df['Travel Time'], kde=True)"
   ]
  },
  {
   "cell_type": "markdown",
   "metadata": {},
   "source": [
    "It seems that Travel Time varies greatly in terms of count. We have a mode around 40 minutes. There are many members who take < 20min but there do seem to be a lot more members who take >=40min to travel to the club. "
   ]
  },
  {
   "cell_type": "code",
   "execution_count": 1247,
   "metadata": {},
   "outputs": [
    {
     "data": {
      "text/plain": [
       "<AxesSubplot: >"
      ]
     },
     "execution_count": 1247,
     "metadata": {},
     "output_type": "execute_result"
    },
    {
     "data": {
      "image/png": "[encoded data removed]",
      "text/plain": [
       "<Figure size 640x480 with 1 Axes>"
      ]
     },
     "metadata": {},
     "output_type": "display_data"
    }
   ],
   "source": [
    "sns.boxplot(df['Travel Time'])"
   ]
  },
  {
   "cell_type": "markdown",
   "metadata": {},
   "source": [
    "However, based on the boxplot, there are no outliers. "
   ]
  },
  {
   "cell_type": "code",
   "execution_count": 1260,
   "metadata": {},
   "outputs": [
    {
     "data": {
      "text/plain": [
       "<seaborn.axisgrid.FacetGrid at 0x140f26580>"
      ]
     },
     "execution_count": 1260,
     "metadata": {},
     "output_type": "execute_result"
    },
    {
     "data": {
      "image/png": "[encoded data removed]",
      "text/plain": [
       "<Figure size 500x500 with 1 Axes>"
      ]
     },
     "metadata": {},
     "output_type": "display_data"
    }
   ],
   "source": [
    "sns.catplot(data=df, x= 'Attrition', y='Travel Time')"
   ]
  },
  {
   "cell_type": "markdown",
   "metadata": {},
   "source": [
    "Now this is interesting. So its hard to tell for the members who lived further away (more even distributino between Attrition values) but for members that lived extremely close by (<10min away) the Attrition seems to be almost all 0 i.e the member stayed. Based on this, I am thinking about keeping this variable, perhaps even simplifying it to a simple categorical variable of near (<=10min travel time) and far( >10min travel time). "
   ]
  },
  {
   "cell_type": "markdown",
   "metadata": {},
   "source": [
    "#### Qualification"
   ]
  },
  {
   "cell_type": "code",
   "execution_count": 1249,
   "metadata": {},
   "outputs": [
    {
     "data": {
      "text/plain": [
       "<AxesSubplot: xlabel='Qualification', ylabel='count'>"
      ]
     },
     "execution_count": 1249,
     "metadata": {},
     "output_type": "execute_result"
    },
    {
     "data": {
      "image/png": "[encoded data removed]",
      "text/plain": [
       "<Figure size 640x480 with 1 Axes>"
      ]
     },
     "metadata": {},
     "output_type": "display_data"
    }
   ],
   "source": [
    "sns.countplot(x = df['Qualification'])"
   ]
  },
  {
   "cell_type": "markdown",
   "metadata": {},
   "source": [
    "Most members are Bachelor degree holders with roughly the same number of Master and Diploma holders. There are very few PhD holders among the members. "
   ]
  },
  {
   "cell_type": "code",
   "execution_count": 1252,
   "metadata": {},
   "outputs": [
    {
     "data": {
      "text/plain": [
       "([<matplotlib.patches.Wedge at 0x1408296a0>,\n",
       "  <matplotlib.patches.Wedge at 0x140829d30>,\n",
       "  <matplotlib.patches.Wedge at 0x140835400>,\n",
       "  <matplotlib.patches.Wedge at 0x140835a90>],\n",
       " [Text(0.6183843820637265, 0.9097256487643203, 'Diploma'),\n",
       "  Text(-1.0347219553135485, 0.37329676557948754, 'Master'),\n",
       "  Text(0.1285262685042771, -1.0924655593218335, 'Bachelor'),\n",
       "  Text(1.0901892043374417, -0.14658614786566987, 'Ph.D')],\n",
       " [Text(0.3373005720347598, 0.4962139902350837, '31.0%'),\n",
       "  Text(-0.5643937938073901, 0.20361641758881135, '27.0%'),\n",
       "  Text(0.07010523736596931, -0.5958903050846365, '37.8%'),\n",
       "  Text(0.5946486569113317, -0.07995608065400174, '4.3%')])"
      ]
     },
     "execution_count": 1252,
     "metadata": {},
     "output_type": "execute_result"
    },
    {
     "data": {
      "image/png": "[encoded data removed]",
      "text/plain": [
       "<Figure size 640x480 with 1 Axes>"
      ]
     },
     "metadata": {},
     "output_type": "display_data"
    }
   ],
   "source": [
    "qual = df['Qualification'].unique()\n",
    "plt.pie(df['Qualification'].value_counts()[qual], autopct='%1.1f%%', labels=qual)"
   ]
  },
  {
   "cell_type": "markdown",
   "metadata": {},
   "source": [
    "We are basically seeing the same thing as the CountPlot. But considering how small the number of Ph.D holders are it might be worth to just bunch them together with Master degree holders. Lets take a look at the relationship between Qualification feature and Attrition. "
   ]
  },
  {
   "cell_type": "code",
   "execution_count": 1268,
   "metadata": {},
   "outputs": [
    {
     "data": {
      "text/plain": [
       "Text(0.5, 1.0, 'Ph.D')"
      ]
     },
     "execution_count": 1268,
     "metadata": {},
     "output_type": "execute_result"
    },
    {
     "data": {
      "image/png": "[encoded data removed]",
      "text/plain": [
       "<Figure size 2000x500 with 4 Axes>"
      ]
     },
     "metadata": {},
     "output_type": "display_data"
    }
   ],
   "source": [
    "labels = [0, 1]\n",
    "labels2 = ['No', 'Yes']\n",
    "fig = plt.figure(figsize = (20,5))\n",
    "fig.add_subplot(1,4,1)\n",
    "pie_dip = plt.pie(df[df['Qualification'] == 'Diploma']['Attrition'].value_counts()[labels], autopct='%1.1f%%', labels=labels2)\n",
    "plt.title('Diploma')\n",
    "fig.add_subplot(1,4,2)\n",
    "pie_bach = plt.pie(df[df['Qualification'] == 'Bachelor']['Attrition'].value_counts()[labels], autopct='%1.1f%%', labels=labels2)\n",
    "plt.title('Bachelor')\n",
    "fig.add_subplot(1,4,3)\n",
    "pie_mast = plt.pie(df[df['Qualification'] == 'Master']['Attrition'].value_counts()[labels], autopct='%1.1f%%', labels=labels2)\n",
    "plt.title('Master')\n",
    "fig.add_subplot(1,4,4)\n",
    "pie_phd = plt.pie(df[df['Qualification'] == 'Ph.D']['Attrition'].value_counts()[labels], autopct='%1.1f%%', labels=labels2)\n",
    "plt.title('Ph.D')"
   ]
  },
  {
   "cell_type": "markdown",
   "metadata": {},
   "source": [
    "It seems that Diploma holders have the highest Attrition rate at 18.7%. While Ph.D holders have the lowest at 12.4%. Interestingly, it seems that the higher the education qualification, the lower the attrition. I wonder if maybe this has something to do with income.. We will have to find out in the later section. Consdering that Ph.D holders have a 3% lower attrition rate than the next lowest, I think it might be worthwhile to keep them seperate. Although, depending on the complexity of the model we decide on (number of features chosen) it maybe be worth it to just combine Master's and Ph.D holders into one group as there are so few Ph.D members relative to the other 3 groupds to reduce the complexity of the overall model. "
   ]
  },
  {
   "cell_type": "markdown",
   "metadata": {},
   "source": [
    "#### Work Domain"
   ]
  },
  {
   "cell_type": "code",
   "execution_count": 1271,
   "metadata": {},
   "outputs": [
    {
     "data": {
      "text/plain": [
       "<AxesSubplot: xlabel='count', ylabel='Work Domain'>"
      ]
     },
     "execution_count": 1271,
     "metadata": {},
     "output_type": "execute_result"
    },
    {
     "data": {
      "image/png": "[encoded data removed]",
      "text/plain": [
       "<Figure size 640x480 with 1 Axes>"
      ]
     },
     "metadata": {},
     "output_type": "display_data"
    }
   ],
   "source": [
    "sns.countplot(y= df['Work Domain'])"
   ]
  },
  {
   "cell_type": "markdown",
   "metadata": {},
   "source": [
    "It seems that most members work domain is Engineering and Information Technology. With very few members being Medical or Unemployed. This makes sense as I would think that people working in the medical work domain would not have a lot of free time to enjoy a country club. Similarly, I would think that unemployed people(assuming not retired) would not want to waste money on a membership till they find a new job.  "
   ]
  },
  {
   "cell_type": "code",
   "execution_count": 1273,
   "metadata": {},
   "outputs": [
    {
     "data": {
      "text/plain": [
       "([<matplotlib.patches.Wedge at 0x140283d60>,\n",
       "  <matplotlib.patches.Wedge at 0x1402834f0>,\n",
       "  <matplotlib.patches.Wedge at 0x140283ca0>,\n",
       "  <matplotlib.patches.Wedge at 0x140160a30>,\n",
       "  <matplotlib.patches.Wedge at 0x14020e4f0>,\n",
       "  <matplotlib.patches.Wedge at 0x14020ec70>],\n",
       " [Text(0.3693426071386526, 1.0361399705406713, 'Engineering'),\n",
       "  Text(-0.9631808540129309, 0.5313027785198581, 'Medical'),\n",
       "  Text(-0.8753808694038284, -0.6661143546582657, 'Information Technology'),\n",
       "  Text(0.43321020175548336, -1.011102824194935, 'Business'),\n",
       "  Text(0.9658735810271041, -0.5263917034622396, 'Science'),\n",
       "  Text(1.095383280276487, -0.10067506787046991, 'Unemployed')],\n",
       " [Text(0.20145960389381048, 0.5651672566585478, '39.1%'),\n",
       "  Text(-0.525371374916144, 0.2898015155562862, '5.8%'),\n",
       "  Text(-0.47748047422027, -0.36333510254087215, '31.0%'),\n",
       "  Text(0.23629647368480905, -0.5515106313790553, '11.2%'),\n",
       "  Text(0.526840135105693, -0.2871227473430397, '10.0%'),\n",
       "  Text(0.59748178924172, -0.05491367338389267, '2.9%')])"
      ]
     },
     "execution_count": 1273,
     "metadata": {},
     "output_type": "execute_result"
    },
    {
     "data": {
      "image/png": "[encoded data removed]",
      "text/plain": [
       "<Figure size 640x480 with 1 Axes>"
      ]
     },
     "metadata": {},
     "output_type": "display_data"
    }
   ],
   "source": [
    "work_domain = df['Work Domain'].unique()\n",
    "plt.pie(df['Work Domain'].value_counts()[work_domain], autopct='%1.1f%%', labels=work_domain)"
   ]
  },
  {
   "cell_type": "markdown",
   "metadata": {},
   "source": [
    "It seems that both Medical and Unemployed categories are very low percentages (5.8% and 2.9% respectively). This is even smaller than i thought from the countplot. Lets see if we can see any relationships between the different work domains and attrition. "
   ]
  },
  {
   "cell_type": "code",
   "execution_count": 1276,
   "metadata": {},
   "outputs": [
    {
     "data": {
      "text/plain": [
       "Text(0.5, 1.0, 'Engineering')"
      ]
     },
     "execution_count": 1276,
     "metadata": {},
     "output_type": "execute_result"
    },
    {
     "data": {
      "image/png": "[encoded data removed]",
      "text/plain": [
       "<Figure size 1000x500 with 6 Axes>"
      ]
     },
     "metadata": {},
     "output_type": "display_data"
    }
   ],
   "source": [
    "labels = [0, 1]\n",
    "labels2 = ['No', 'Yes']\n",
    "fig = plt.figure(figsize = (10,5))\n",
    "fig.add_subplot(2,3,1)\n",
    "pie_dip = plt.pie(df[df['Work Domain'] == 'Medical']['Attrition'].value_counts()[labels], autopct='%1.1f%%', labels=labels2)\n",
    "plt.title('Medical')\n",
    "fig.add_subplot(2,3,2)\n",
    "pie_bach = plt.pie(df[df['Work Domain'] == 'Unemployed']['Attrition'].value_counts()[labels], autopct='%1.1f%%', labels=labels2)\n",
    "plt.title('Unemployed')\n",
    "fig.add_subplot(2,3,3)\n",
    "pie_mast = plt.pie(df[df['Work Domain'] == 'Science']['Attrition'].value_counts()[labels], autopct='%1.1f%%', labels=labels2)\n",
    "plt.title('Science')\n",
    "fig.add_subplot(2,3,4)\n",
    "pie_phd = plt.pie(df[df['Work Domain'] == 'Business']['Attrition'].value_counts()[labels], autopct='%1.1f%%', labels=labels2)\n",
    "plt.title('Business')\n",
    "fig.add_subplot(2,3,5)\n",
    "pie_phd = plt.pie(df[df['Work Domain'] == 'Information Technology']['Attrition'].value_counts()[labels], autopct='%1.1f%%', labels=labels2)\n",
    "plt.title('Information Technology')\n",
    "fig.add_subplot(2,3,6)\n",
    "pie_phd = plt.pie(df[df['Work Domain'] == 'Engineering']['Attrition'].value_counts()[labels], autopct='%1.1f%%', labels=labels2)\n",
    "plt.title('Engineering')"
   ]
  },
  {
   "cell_type": "markdown",
   "metadata": {},
   "source": [
    "After looking at the relationship between work domain and attrition rate, I am thinking if I end up using this feature, it might be worthwhile to group Information Technology, Engineering and Medical together, Business and Science together and leaving Unemployed untouched. This would be able to potentially capture all the relevant information within this feature while reducing the complexity of the overall model. "
   ]
  },
  {
   "cell_type": "markdown",
   "metadata": {},
   "source": [
    "#### Usage Rate"
   ]
  },
  {
   "cell_type": "markdown",
   "metadata": {},
   "source": [
    "I think it would make the most sense to treat this feature as categorical as there are only 4 different values that the feature takes: "
   ]
  },
  {
   "cell_type": "code",
   "execution_count": 1279,
   "metadata": {},
   "outputs": [
    {
     "data": {
      "text/plain": [
       "array([2, 3, 4, 1])"
      ]
     },
     "execution_count": 1279,
     "metadata": {},
     "output_type": "execute_result"
    }
   ],
   "source": [
    "df['Usage Rate'].unique()"
   ]
  },
  {
   "cell_type": "code",
   "execution_count": null,
   "metadata": {},
   "outputs": [],
   "source": []
  }
 ],
 "metadata": {
  "kernelspec": {
   "display_name": "Python 3.8.2 ('aiap12')",
   "language": "python",
   "name": "python3"
  },
  "language_info": {
   "codemirror_mode": {
    "name": "ipython",
    "version": 3
   },
   "file_extension": ".py",
   "mimetype": "text/x-python",
   "name": "python",
   "nbconvert_exporter": "python",
   "pygments_lexer": "ipython3",
   "version": "3.8.2"
  },
  "orig_nbformat": 4,
  "vscode": {
   "interpreter": {
    "hash": "d1366e5ea73b21af31708d32e86890d39e56083e812fc834d774f72c82881667"
   }
  }
 },
 "nbformat": 4,
 "nbformat_minor": 2
}
